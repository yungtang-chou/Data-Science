{
 "cells": [
  {
   "cell_type": "markdown",
   "metadata": {},
   "source": [
    "# Gradient Descent from Scratch"
   ]
  },
  {
   "cell_type": "code",
   "execution_count": 1,
   "metadata": {},
   "outputs": [],
   "source": [
    "import numpy as np\n",
    "import random\n",
    "import matplotlib.pyplot as plt"
   ]
  },
  {
   "cell_type": "code",
   "execution_count": 2,
   "metadata": {},
   "outputs": [],
   "source": [
    "x_data = [338., 333., 328., 207., 226., 25., 179., 60., 208., 606.]\n",
    "y_data = [640., 633., 619., 393., 428., 27., 193., 66., 226., 1591.]"
   ]
  },
  {
   "cell_type": "markdown",
   "metadata": {},
   "source": [
    "Here we want to use Gradient Descent to find parameter for the function\n",
    "\n",
    "$${y_d} = \\beta + w * {x_d}$$"
   ]
  },
  {
   "cell_type": "markdown",
   "metadata": {},
   "source": [
    "## Vanilla Gradient Descent\n",
    "\n",
    "The mathematic formulation for gradient descent can be written as follows:\n",
    "\n",
    "<img src=\"pic/gd/gd2.png\" width=\"200\" height=\"400\">\n",
    "\n",
    "**`W`**: Weight\n",
    "\n",
    "**`L`**: Loss function  \n",
    "\n",
    "**`η`**: learning rate\n",
    "\n",
    "**`∂L/∂W`**: the gradient of loss function over weights\n"
   ]
  },
  {
   "cell_type": "code",
   "execution_count": 3,
   "metadata": {},
   "outputs": [],
   "source": [
    "x = np.arange(-200, -100, 1) # bias term\n",
    "y = np.arange(-5, 5, 0.1) # weight\n",
    "Z = np.zeros((len(x), len(y)))\n",
    "X, Y = np.meshgrid(x, y)"
   ]
  },
  {
   "cell_type": "code",
   "execution_count": 4,
   "metadata": {},
   "outputs": [],
   "source": [
    "for i in range(len(x)):\n",
    "    for j in range(len(y)):\n",
    "        b = x[i]\n",
    "        w = y[i]\n",
    "        Z[i][j] = 0\n",
    "        for n in range(len(x_data)):\n",
    "            Z[i][j] = Z[i][j] + (y_data[n] - b - w*x_data[n]) ** 2\n",
    "        Z[i][j] = Z[i][j] / len(x_data)"
   ]
  },
  {
   "cell_type": "code",
   "execution_count": 5,
   "metadata": {},
   "outputs": [],
   "source": [
    "def GD(x_data, y_data, bias, weight, lr, iteration):\n",
    "\n",
    "    b = bias # initialize b\n",
    "    w = weight # initialize w\n",
    "    lr = lr # learning rate\n",
    "    iteration = iteration # number of iteration\n",
    "\n",
    "    # Store initial values for plotting\n",
    "    b_history = [b]\n",
    "    w_history = [w]\n",
    "\n",
    "    # Iteration\n",
    "    for i in range(int(iteration)):\n",
    "\n",
    "        b_grad = 0.0\n",
    "        w_grad = 0.0\n",
    "        for n in range(len(x_data)): # Partial Derivative\n",
    "            b_grad = b_grad - 2.0 * (y_data[n] - b - w*x_data[n])*1.0\n",
    "            w_grad = w_grad - 2.0 * (y_data[n] - b - w*x_data[n])*x_data[n]\n",
    "\n",
    "        # Update params\n",
    "        b = b - lr * b_grad\n",
    "        w = w - lr * w_grad\n",
    "\n",
    "        # Store in the history\n",
    "        b_history.append(b)\n",
    "        w_history.append(w)\n",
    "    \n",
    "    return(b_history, w_history)"
   ]
  },
  {
   "cell_type": "code",
   "execution_count": 6,
   "metadata": {},
   "outputs": [
    {
     "data": {
      "text/plain": [
       "Text(0, 0.5, 'w')"
      ]
     },
     "execution_count": 6,
     "metadata": {},
     "output_type": "execute_result"
    },
    {
     "data": {
      "image/png": "[encoded data removed]",
      "text/plain": [
       "<Figure size 432x288 with 1 Axes>"
      ]
     },
     "metadata": {
      "needs_background": "light"
     },
     "output_type": "display_data"
    }
   ],
   "source": [
    "b_history, w_history = GD(x_data, y_data, bias=-120, weight=-2, lr=0.0005, iteration=1e6)\n",
    "\n",
    "# plot the figure\n",
    "plt.contourf(x,y,Z, 50, alpha=0.5, cmap=plt.get_cmap('jet'))\n",
    "plt.plot([-188.4],[2.67],'x',ms=12, markeredgewidth=3, color='orange')\n",
    "plt.plot(b_history, w_history, 'o-', ms = 3, lw=1.5, color='black')\n",
    "plt.xlim(-200,-100)\n",
    "plt.ylim(-5,5)\n",
    "plt.xlabel('b',fontsize=16)\n",
    "plt.ylabel('w',fontsize=16)"
   ]
  },
  {
   "cell_type": "code",
   "execution_count": 7,
   "metadata": {},
   "outputs": [
    {
     "data": {
      "text/plain": [
       "Text(0, 0.5, 'w')"
      ]
     },
     "execution_count": 7,
     "metadata": {},
     "output_type": "execute_result"
    },
    {
     "data": {
      "image/png": "[encoded data removed]",
      "text/plain": [
       "<Figure size 432x288 with 1 Axes>"
      ]
     },
     "metadata": {
      "needs_background": "light"
     },
     "output_type": "display_data"
    }
   ],
   "source": [
    "b_history, w_history = GD(x_data, y_data, bias=-120, weight=-2, lr=0.00005, iteration=1e6)\n",
    "\n",
    "# plot the figure\n",
    "plt.contourf(x,y,Z, 50, alpha=0.5, cmap=plt.get_cmap('jet'))\n",
    "plt.plot([-188.4],[2.67],'x',ms=12, markeredgewidth=3, color='orange')\n",
    "plt.plot(b_history, w_history, 'o-', ms = 3, lw=1.5, color='black')\n",
    "plt.xlim(-200,-100)\n",
    "plt.ylim(-5,5)\n",
    "plt.xlabel('b',fontsize=16)\n",
    "plt.ylabel('w',fontsize=16)"
   ]
  },
  {
   "cell_type": "markdown",
   "metadata": {},
   "source": [
    "---\n",
    "# Gradient Descent Tips\n",
    "\n",
    "## **Tip 1**: Tune your learning rates: `Adagrad`\n",
    "\n",
    "<img src=\"pic/gd/gd.png\" width=\"200\" height=\"400\">\n",
    "\n",
    "The learning rate η is the shrinkage you do at every step you are making. \n",
    "\n",
    "* If you make 1 step at `η = 1.00`, the step weight is `1.00`. \n",
    "* If you make 1 step at `η = 0.25`, the step weight is `0.25`.\n",
    "\n",
    "Note that \n",
    "\n",
    "* Increasing η makes computation faster (because you need to input less rounds). However, **you may end up hovering over the local minimum and never reach the minimum spot**. \n",
    "* Decreasing η makes computation slower (because you need to input more rounds). However, **you need more time(iterations) to let your gradient descent algorithm reach the local minimum**.\n",
    "\n",
    "<img src=\"pic/gd/gdviz.png\" width=\"300\" height=\"300\">\n",
    "\n",
    "For each gradient descent, you should make sure that you plot out your loss function for each learning rate that you utilize.\n",
    "\n",
    "Thus, you can understand whether your learning rate is above or below the preferred value and alter it accordingly.\n",
    "\n",
    "### Now, how should we update our learning rate?\n",
    "\n",
    "One simple approach is to **`reduce the learning rate along with each iterations`**.\n",
    "\n",
    "* At the beginning, we are far away from the destination (local minimum), and thus use a larger learning rate.\n",
    "* After several iterations, we are close to the destination, and thus should use a smaller learning rate.\n",
    "\n",
    "In this way, we can confirm that loss will `decrease fast in the beginning`, and will `slow down so that we can reach local minimum` when it is at its neighbor. One common way of doing so is **learning rate decay**.\n",
    "\n",
    "<img src=\"pic/gd/decay.png\" width=\"200\" height=\"400\">\n",
    "\n",
    "However, it would be a better idea if we can customize the learning rate of each parameter.\n",
    "\n",
    "To fulfill this goal, we can introduce the adaptive gradient descent method **`adagrad`**.\n",
    "\n",
    "<img src=\"pic/gd/adagrad.png\" width=\"500\" height=\"400\">\n",
    "\n",
    "**σ**    :    `Root Mean Square` of previous derivatives of parameter *w*\n",
    "\n",
    "Remember that the numerator η is also time-dependent as mentioned. Therefore, we can derive that the **`adagrad`** can be formulated as velow.\n",
    "\n",
    "<img src=\"pic/gd/adagrad2.png\" width=\"350\" height=\"300\">"
   ]
  },
  {
   "cell_type": "code",
   "execution_count": 17,
   "metadata": {},
   "outputs": [],
   "source": [
    "def adagrad(x_data, y_data, bias, weight, lr, iteration):\n",
    "\n",
    "    b = bias # initialize b\n",
    "    w = weight # initialize w\n",
    "    lr = lr # learning rate\n",
    "    iteration = iteration # number of iteration\n",
    "\n",
    "    # Store initial values for plotting\n",
    "    b_history = [b]\n",
    "    w_history = [w]\n",
    "\n",
    "    lr_b = 0\n",
    "    lr_w = 0\n",
    "\n",
    "    # Iteration\n",
    "    for i in range(int(iteration)):\n",
    "\n",
    "        b_grad = 0.0\n",
    "        w_grad = 0.0\n",
    "        for n in range(len(x_data)): # Partial Derivative\n",
    "            b_grad = b_grad - 2.0 * (y_data[n] - b - w*x_data[n])*1.0\n",
    "            w_grad = w_grad - 2.0 * (y_data[n] - b - w*x_data[n])*x_data[n]\n",
    "\n",
    "        # Adagrad -- Give each param customized learning rate\n",
    "        lr_b = lr_b + b_grad**2\n",
    "        lr_w = lr_w + w_grad**2\n",
    "\n",
    "        # Update params\n",
    "        b = b - lr/np.sqrt(lr_b) * b_grad\n",
    "        w = w - lr/np.sqrt(lr_w) * w_grad\n",
    "\n",
    "        # Store in the history\n",
    "        b_history.append(b)\n",
    "        w_history.append(w)\n",
    "    \n",
    "    return(b_history, w_history)"
   ]
  },
  {
   "cell_type": "code",
   "execution_count": 18,
   "metadata": {},
   "outputs": [
    {
     "data": {
      "text/plain": [
       "Text(0, 0.5, 'w')"
      ]
     },
     "execution_count": 18,
     "metadata": {},
     "output_type": "execute_result"
    },
    {
     "data": {
      "image/png": "[encoded data removed]",
      "text/plain": [
       "<Figure size 432x288 with 1 Axes>"
      ]
     },
     "metadata": {
      "needs_background": "light"
     },
     "output_type": "display_data"
    }
   ],
   "source": [
    "b_history, w_history = adagrad(x_data, y_data, bias=-120, weight=-2, lr=1, iteration=1e6)\n",
    "\n",
    "# plot the figure\n",
    "plt.contourf(x,y,Z, 50, alpha=0.5, cmap=plt.get_cmap('jet'))\n",
    "plt.plot([-188.4],[2.67],'x',ms=12, markeredgewidth=3, color='orange')\n",
    "plt.plot(b_history, w_history, 'o-', ms = 3, lw=1.5, color='black')\n",
    "plt.xlim(-200,-100)\n",
    "plt.ylim(-5,5)\n",
    "plt.xlabel('b',fontsize=16)\n",
    "plt.ylabel('w',fontsize=16)"
   ]
  },
  {
   "cell_type": "markdown",
   "metadata": {},
   "source": [
    "## **Tip 2**: Stochastic Gradient Descent\n",
    "\n",
    "**`Stochastic Gradient Descent`** can make your gradient descent faster.\n",
    "\n",
    "In general, parameters will be updated after seeing all the data and calculating the gradient.\n",
    "\n",
    "<img src=\"pic/gd/loss.png\" width=\"350\" height=\"300\">\n",
    "\n",
    "Stochastic Gradient Descent, on the other hand, will update parameter after seeing **one** data point.\n",
    "\n",
    "It's faster but less stable. Thus, it will contain more zigzags.\n",
    "\n",
    "<img src=\"pic/gd/sgd.png\" width=\"500\" height=\"300\">"
   ]
  },
  {
   "cell_type": "code",
   "execution_count": 19,
   "metadata": {},
   "outputs": [],
   "source": [
    "def sgd(x_data, y_data, bias, weight, lr, iteration):\n",
    "\n",
    "    b = bias # initialize b\n",
    "    w = weight # initialize w\n",
    "    lr = lr # learning rate\n",
    "    iteration = iteration # number of iteration\n",
    "\n",
    "    # Store initial values for plotting\n",
    "    b_history = [b]\n",
    "    w_history = [w]\n",
    "\n",
    "    # Iteration\n",
    "    for i in range(int(iteration)):\n",
    "\n",
    "        for n in range(len(x_data)): # Partial Derivative\n",
    "            # Reset gradient\n",
    "            b_grad = 0.0\n",
    "            w_grad = 0.0\n",
    "            \n",
    "            b_grad = b_grad - 2.0 * (y_data[n] - b - w*x_data[n])*1.0\n",
    "            w_grad = w_grad - 2.0 * (y_data[n] - b - w*x_data[n])*x_data[n]\n",
    "\n",
    "            # Update params upon seeing each data\n",
    "            b = b - lr * b_grad\n",
    "            w = w - lr * w_grad\n",
    "\n",
    "        # Store in the history\n",
    "        b_history.append(b)\n",
    "        w_history.append(w)\n",
    "    \n",
    "    return(b_history, w_history)"
   ]
  },
  {
   "cell_type": "code",
   "execution_count": 34,
   "metadata": {},
   "outputs": [],
   "source": [
    "sgd_xdata = x_data * 5\n",
    "random.shuffle(sgd_xdata)\n",
    "sgd_ydata = y_data * 5\n",
    "random.shuffle(sgd_ydata)"
   ]
  },
  {
   "cell_type": "code",
   "execution_count": 35,
   "metadata": {},
   "outputs": [
    {
     "data": {
      "text/plain": [
       "Text(0, 0.5, 'w')"
      ]
     },
     "execution_count": 35,
     "metadata": {},
     "output_type": "execute_result"
    },
    {
     "data": {
      "image/png": "[encoded data removed]",
      "text/plain": [
       "<Figure size 432x288 with 1 Axes>"
      ]
     },
     "metadata": {
      "needs_background": "light"
     },
     "output_type": "display_data"
    }
   ],
   "source": [
    "b_history, w_history = sgd(sgd_xdata, sgd_ydata, bias=-120, weight=-2, lr=1, iteration=1e6)\n",
    "\n",
    "# plot the figure\n",
    "plt.contourf(x,y,Z, 50, alpha=0.5, cmap=plt.get_cmap('jet'))\n",
    "plt.plot([-188.4],[2.67],'x',ms=12, markeredgewidth=3, color='orange')\n",
    "plt.plot(b_history, w_history, 'o-', ms = 3, lw=1.5, color='black')\n",
    "plt.xlim(-200,-100)\n",
    "plt.ylim(-5,5)\n",
    "plt.xlabel('b',fontsize=16)\n",
    "plt.ylabel('w',fontsize=16)"
   ]
  },
  {
   "cell_type": "markdown",
   "metadata": {},
   "source": [
    "## **Tip 3**: Feature Scaling\n",
    "\n",
    "**`Feature Scaling`** can make each parameter update more efficient.\n",
    "\n",
    "* **`Without feature scaling`** *(left plot)*, we can see that the first couple of gradients are not directed toward the local minimum. What it means is that the parameter upgrade is less efficient and will require more updates.\n",
    "* **`With feature scaling`** *(right plot)*, each epoch will be similarly efficient. \n",
    "\n",
    "<img src=\"pic/gd/norm.png\" width=\"600\" height=\"300\">\n",
    "\n",
    "Some of the famous feature scaling methods are:\n",
    "* **StandardScaler**\n",
    "* **MinMaxScaler**\n",
    "\n",
    "which can be applied using **`sklearn.preprocessing`**.\n",
    "\n",
    "```python\n",
    "from sklearn.preprocessing import StandardScaler, MinMaxScaler\n",
    "```"
   ]
  },
  {
   "cell_type": "markdown",
   "metadata": {},
   "source": [
    "---\n",
    "\n",
    "## Reference:\n",
    "\n",
    "[CS321n](http://cs231n.github.io/)"
   ]
  }
 ],
 "metadata": {
  "kernelspec": {
   "display_name": "Python 3",
   "language": "python",
   "name": "python3"
  },
  "language_info": {
   "codemirror_mode": {
    "name": "ipython",
    "version": 3
   },
   "file_extension": ".py",
   "mimetype": "text/x-python",
   "name": "python",
   "nbconvert_exporter": "python",
   "pygments_lexer": "ipython3",
   "version": "3.7.6"
  }
 },
 "nbformat": 4,
 "nbformat_minor": 4
}
