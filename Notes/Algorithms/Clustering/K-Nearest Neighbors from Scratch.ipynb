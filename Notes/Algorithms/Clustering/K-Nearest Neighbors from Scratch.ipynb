{
 "cells": [
  {
   "cell_type": "markdown",
   "metadata": {},
   "source": [
    "# K-Nearest Neighbors from Scratch\n",
    "\n",
    "<img src='pic/knn.jpg' width=400>\n",
    "\n",
    "KNN Stands for K-Nearest Neighbors. It's a **non-parametric, lazy learning algorithm** that makes predictions based on **feature similarity**: how close you are to your nearest neighbors. It assumes that **similar items will exist in close proximity**. \n",
    "\n",
    "It's mostly used as a **classifier**, where the class of the target variable is defined through **majority voting**. It can also be used as a **regressor**, where the value of the target variable is calculated through **averaging**.\n",
    "\n",
    "In this notebook, we will first implement KNN classifier and then entend that classifier to become KNN regressor. We will also load datasets provided in sklearn to compare the results with the standard sklearn model.\n",
    "\n",
    "---\n",
    "## What is the main characteristic of KNN algorithm?\n",
    "\n",
    "**Distances** between vectors are calculated to define what's so-called **nearest neighbors**. From these \"nearest negihbors\", we can derive classes (classification) or values (regression) for the unlabeled data.\n",
    "\n",
    "There are mainly two types of distances:\n",
    "\n",
    "1. **`Euclidean distance`**.\n",
    "\n",
    "$$ \\sqrt{\\sum \\limits_{i=i}^k (x_{i} - y_{i})^2}$$\n",
    "\n",
    "\n",
    "2. **`Manhattan distance`**.\n",
    "\n",
    "$$ \\lvert\\sum \\limits_{i=i}^k (x_{i} - y_{i})^2\\rvert$$\n",
    "\n",
    "\n",
    "The two distances above can both be discribed by a single **Minkowski** metric, and a parameter **p**.\n",
    "\n",
    "$$ (\\sum \\limits_{i=1}^k (\\lvert x_{i} - y_{i} \\rvert)^p)^{1/p} $$\n",
    "\n",
    "When **p = 1**, the Minkowski metric is the same as the Manhattan distance.\n",
    "\n",
    "When **p = 2**, the Minkowski metric is the same as the Euclidean distance.\n",
    "\n",
    "In sklearn, the default metric is minkowski and the p = 2. Thus, the default distance function for KNN classifier is Euclidean distance. If you want to change it to another type of distance functionm simply tune the value of p. For more information about the type of distance (the relationship of **metric** and **p**), please refer to the [sklearn's documentation about **DistanceMetric**](https://scikit-learn.org/stable/modules/generated/sklearn.neighbors.DistanceMetric.html#sklearn.neighbors.DistanceMetric).\n",
    "```python\n",
    "KNeighborsClassifier(n_neighbors=5,\n",
    "    p=2,\n",
    "    metric='minkowski')\n",
    "```\n",
    "---\n",
    "## Uniform KNN vs. Weighted KNN\n",
    "\n",
    "By default, KNN treats all the nearest neighbors equally. However, this can cause some problems. Consider the following example.\n",
    "\n",
    "<img src='pic/weighted.jpg' width=300>\n",
    "\n",
    "If we want to **assign a color** to the undefined green datapoint, with **k = 3** the green circle will be assigned to the color **red**. With **k = 5**, the green circle will be assigned to the color **blue**. You might notice that the two red datapoints are much closer to the undefined green datapoint. Thus, intuitively this green datapoint should be assigned to be **red**. This is when the **weighted KNN** comes into play. \n",
    "\n",
    "Let's say the distance between the undefined green datapoints and its five nearest neighbors are 0.1(red), 0.2(red), 0.5(blue), 1.0(blue), 1.2(blue). With Uniform KNN, these distances will not be considered and thus five datapoints will be treated the same.\n",
    "\n",
    "However, the weights of the weighted KNN are obtained by taking the sum of inversion of distances.\n",
    "\n",
    "Thus, the weighted distances to color blue will be\n",
    "\n",
    "$$ (\\frac{1}{0.5} + \\frac{1}{1} + \\frac{1}{1.2}) = 3.83 $$\n",
    "\n",
    "The weighted distances to color red will be\n",
    "\n",
    "$$ (\\frac{1}{0.1} + \\frac{1}{0.2}) = 15 $$\n",
    "\n",
    "Clearly, with the weighted KNN, the undefined green datapoint should be classified as the color **red**. \n",
    "\n",
    "---\n",
    "## How to decide the number of neighbors?\n",
    "\n",
    "In the example above, besides the choice between uniform KNN and weighted KNN, we can see that the number of neighbors is the core deciding factor for the outcome. We should come up with some rule of thumbs when implementing this algorithm so that the results will not be affected by bias/variance due to sampling.\n",
    "\n",
    "Research has shown that **there is no optimal number of neighbors suits all kind of datasets**. When k is set to a small value, noise within the dataset will have a higher influence on the result; when k is set to a high value, it will be computationally expensive to compute the result and might be hard to interpret practically.\n",
    "\n",
    "Generally speaking, **small number of neighbors** are more flexible fit, which will have **low bias but high variance**, and a **high number of neighbors** will ha ve a smoother decision boundary, which will cause a **lower variance but higher bias**.\n",
    "\n",
    "As a rule of thumb, you should choose an odd number to be the number of neighbors when the classes is even. Thus, you will not encounter the case when two classes are equally near to the undefined variable. \n",
    "\n",
    "---\n",
    "\n",
    "## K-Nearest Neighbor Classifier"
   ]
  },
  {
   "cell_type": "code",
   "execution_count": 148,
   "metadata": {},
   "outputs": [],
   "source": [
    "import numpy as np\n",
    "from collections import Counter\n",
    "from sklearn import datasets\n",
    "from sklearn.model_selection import train_test_split\n",
    "import warnings\n",
    "warnings.filterwarnings('ignore')"
   ]
  },
  {
   "cell_type": "code",
   "execution_count": 135,
   "metadata": {},
   "outputs": [],
   "source": [
    "# Generate data for classification\n",
    "cancer = datasets.load_breast_cancer() # Load the classic breast cancer dataset\n",
    "X, y = cancer.data, cancer.target\n",
    "\n",
    "X_train, X_test, y_train, y_test = train_test_split(X, y, test_size = 0.2)"
   ]
  },
  {
   "cell_type": "code",
   "execution_count": 114,
   "metadata": {},
   "outputs": [
    {
     "name": "stdout",
     "output_type": "stream",
     "text": [
      ".. _breast_cancer_dataset:\n",
      "\n",
      "Breast cancer wisconsin (diagnostic) dataset\n",
      "--------------------------------------------\n",
      "\n",
      "**Data Set Characteristics:**\n",
      "\n",
      "    :Number of Instances: 569\n",
      "\n",
      "    :Number of Attributes: 30 numeric, predictive attributes and the class\n",
      "\n",
      "    :Attribute Information:\n",
      "        - radius (mean of distances from center to points on the perimeter)\n",
      "        - texture (standard deviation of gray-scale values)\n",
      "        - perimeter\n",
      "        - area\n",
      "        - smoothness (local variation in radius lengths)\n",
      "        - compactness (perimeter^2 / area - 1.0)\n",
      "        - concavity (severity of concave portions of the contour)\n",
      "        - concave points (number of concave portions of the contour)\n",
      "        - symmetry \n",
      "        - fractal dimension (\"coastline approximation\" - 1)\n",
      "\n",
      "        The mean, standard error, and \"worst\" or largest (mean of the three\n",
      "        largest values) of these features were computed for each image,\n",
      "        resulting in 30 features.  For instance, field 3 is Mean Radius, field\n",
      "        13 is Radius SE, field 23 is Worst Radius.\n",
      "\n",
      "        - class:\n",
      "                - WDBC-Malignant\n",
      "                - WDBC-Benign\n",
      "\n",
      "    :Summary Statistics:\n",
      "\n",
      "    ===================================== ====== ======\n",
      "                                           Min    Max\n",
      "    ===================================== ====== ======\n",
      "    radius (mean):                        6.981  28.11\n",
      "    texture (mean):                       9.71   39.28\n",
      "    perimeter (mean):                     43.79  188.5\n",
      "    area (mean):                          143.5  2501.0\n",
      "    smoothness (mean):                    0.053  0.163\n",
      "    compactness (mean):                   0.019  0.345\n",
      "    concavity (mean):                     0.0    0.427\n",
      "    concave points (mean):                0.0    0.201\n",
      "    symmetry (mean):                      0.106  0.304\n",
      "    fractal dimension (mean):             0.05   0.097\n",
      "    radius (standard error):              0.112  2.873\n",
      "    texture (standard error):             0.36   4.885\n",
      "    perimeter (standard error):           0.757  21.98\n",
      "    area (standard error):                6.802  542.2\n",
      "    smoothness (standard error):          0.002  0.031\n",
      "    compactness (standard error):         0.002  0.135\n",
      "    concavity (standard error):           0.0    0.396\n",
      "    concave points (standard error):      0.0    0.053\n",
      "    symmetry (standard error):            0.008  0.079\n",
      "    fractal dimension (standard error):   0.001  0.03\n",
      "    radius (worst):                       7.93   36.04\n",
      "    texture (worst):                      12.02  49.54\n",
      "    perimeter (worst):                    50.41  251.2\n",
      "    area (worst):                         185.2  4254.0\n",
      "    smoothness (worst):                   0.071  0.223\n",
      "    compactness (worst):                  0.027  1.058\n",
      "    concavity (worst):                    0.0    1.252\n",
      "    concave points (worst):               0.0    0.291\n",
      "    symmetry (worst):                     0.156  0.664\n",
      "    fractal dimension (worst):            0.055  0.208\n",
      "    ===================================== ====== ======\n",
      "\n",
      "    :Missing Attribute Values: None\n",
      "\n",
      "    :Class Distribution: 212 - Malignant, 357 - Benign\n",
      "\n",
      "    :Creator:  Dr. William H. Wolberg, W. Nick Street, Olvi L. Mangasarian\n",
      "\n",
      "    :Donor: Nick Street\n",
      "\n",
      "    :Date: November, 1995\n",
      "\n",
      "This is a copy of UCI ML Breast Cancer Wisconsin (Diagnostic) datasets.\n",
      "https://goo.gl/U2Uwz2\n",
      "\n",
      "Features are computed from a digitized image of a fine needle\n",
      "aspirate (FNA) of a breast mass.  They describe\n",
      "characteristics of the cell nuclei present in the image.\n",
      "\n",
      "Separating plane described above was obtained using\n",
      "Multisurface Method-Tree (MSM-T) [K. P. Bennett, \"Decision Tree\n",
      "Construction Via Linear Programming.\" Proceedings of the 4th\n",
      "Midwest Artificial Intelligence and Cognitive Science Society,\n",
      "pp. 97-101, 1992], a classification method which uses linear\n",
      "programming to construct a decision tree.  Relevant features\n",
      "were selected using an exhaustive search in the space of 1-4\n",
      "features and 1-3 separating planes.\n",
      "\n",
      "The actual linear program used to obtain the separating plane\n",
      "in the 3-dimensional space is that described in:\n",
      "[K. P. Bennett and O. L. Mangasarian: \"Robust Linear\n",
      "Programming Discrimination of Two Linearly Inseparable Sets\",\n",
      "Optimization Methods and Software 1, 1992, 23-34].\n",
      "\n",
      "This database is also available through the UW CS ftp server:\n",
      "\n",
      "ftp ftp.cs.wisc.edu\n",
      "cd math-prog/cpo-dataset/machine-learn/WDBC/\n",
      "\n",
      ".. topic:: References\n",
      "\n",
      "   - W.N. Street, W.H. Wolberg and O.L. Mangasarian. Nuclear feature extraction \n",
      "     for breast tumor diagnosis. IS&T/SPIE 1993 International Symposium on \n",
      "     Electronic Imaging: Science and Technology, volume 1905, pages 861-870,\n",
      "     San Jose, CA, 1993.\n",
      "   - O.L. Mangasarian, W.N. Street and W.H. Wolberg. Breast cancer diagnosis and \n",
      "     prognosis via linear programming. Operations Research, 43(4), pages 570-577, \n",
      "     July-August 1995.\n",
      "   - W.H. Wolberg, W.N. Street, and O.L. Mangasarian. Machine learning techniques\n",
      "     to diagnose breast cancer from fine-needle aspirates. Cancer Letters 77 (1994) \n",
      "     163-171.\n"
     ]
    }
   ],
   "source": [
    "print(cancer.DESCR)"
   ]
  },
  {
   "cell_type": "markdown",
   "metadata": {},
   "source": [
    "Check out the [sklearn documentation](https://scikit-learn.org/stable/datasets/index.html#iris-dataset) about the breast cancer dataset if you are interested in more detail.\n",
    "\n",
    "### Modeling"
   ]
  },
  {
   "cell_type": "code",
   "execution_count": 115,
   "metadata": {},
   "outputs": [],
   "source": [
    "def euclidean_distance(x1, x2):\n",
    "    \"\"\"\n",
    "    Simple Euclidean distance is implemented\n",
    "    \"\"\"\n",
    "    return np.sqrt(np.sum((x1-x2)**2))"
   ]
  },
  {
   "cell_type": "code",
   "execution_count": 116,
   "metadata": {},
   "outputs": [],
   "source": [
    "class KNN_classifier:\n",
    "    def __init__(self, k=3):\n",
    "        self.k = k\n",
    "    \n",
    "    def fit(self, X, y):\n",
    "        \"\"\"\n",
    "        In KNN, this fit method doesn't actually involve any training step.\n",
    "        All it does is to store the training sample so that you can use them later.\n",
    "        \"\"\"\n",
    "        # Lazy algorithm\n",
    "        self.X_train = X\n",
    "        self.y_train = y\n",
    "    \n",
    "    def predict(self, X):\n",
    "        \"\"\"\n",
    "        Main predict method that handles multiple samples. \n",
    "        \"\"\"\n",
    "        predicted_labels = [self._predict(x) for x in X]\n",
    "        return np.array(predicted_labels)\n",
    "        \n",
    "    def _predict(self, x):\n",
    "        \"\"\"\n",
    "        Helper method for one-sample prediction.\n",
    "        \"\"\"\n",
    "        # Compute distances\n",
    "        distances = [euclidean_distance(x, x_train) for x_train in self.X_train]\n",
    "        \n",
    "        # Get k nearest samples, labels\n",
    "        k_indices = np.argsort(distances)[:self.k] # Default to ascending\n",
    "        k_nearest_labels = [self.y_train[i] for i in k_indices]\n",
    "        \n",
    "        # majority vote, assgined to most common class label\n",
    "        most_common = Counter(k_nearest_labels).most_common(1) # return list of tuples [(a,b)] (values, # of appearences)\n",
    "        return most_common[0][0]"
   ]
  },
  {
   "cell_type": "code",
   "execution_count": 136,
   "metadata": {},
   "outputs": [
    {
     "name": "stdout",
     "output_type": "stream",
     "text": [
      "The accuracy of the custom KNN model: 93.86%\n"
     ]
    }
   ],
   "source": [
    "# Custom KNN model\n",
    "clf = KNN_classifier(k=5)\n",
    "clf.fit(X_train, y_train)\n",
    "predictions = clf.predict(X_test)\n",
    "print(f\"The accuracy of the custom KNN model: {100*(predictions == y_test).sum() / len(y_test):.2f}%\")"
   ]
  },
  {
   "cell_type": "code",
   "execution_count": 137,
   "metadata": {},
   "outputs": [
    {
     "name": "stdout",
     "output_type": "stream",
     "text": [
      "The accuracy of sklearn's KNN model: 93.86%\n"
     ]
    }
   ],
   "source": [
    "# Sklearn's KNN model\n",
    "from sklearn.neighbors import KNeighborsClassifier\n",
    "clf = KNeighborsClassifier(n_neighbors=5)\n",
    "clf.fit(X_train, y_train)\n",
    "predictions = clf.predict(X_test)\n",
    "print(f\"The accuracy of sklearn's KNN model: {100*(predictions == y_test).sum() / len(y_test):.2f}%\")"
   ]
  },
  {
   "cell_type": "markdown",
   "metadata": {},
   "source": [
    "Let's take a look at the decision boundary."
   ]
  },
  {
   "cell_type": "code",
   "execution_count": 149,
   "metadata": {},
   "outputs": [
    {
     "data": {
      "image/png": "[encoded data removed]",
      "text/plain": [
       "<Figure size 576x396 with 1 Axes>"
      ]
     },
     "metadata": {},
     "output_type": "display_data"
    },
    {
     "data": {
      "text/plain": [
       "<matplotlib.axes._subplots.AxesSubplot at 0x1a2db71ad0>"
      ]
     },
     "execution_count": 149,
     "metadata": {},
     "output_type": "execute_result"
    }
   ],
   "source": [
    "import umap # dimesionality reduction\n",
    "fitter = umap.UMAP()\n",
    "X_train_umap = fitter.fit_transform(X_train)\n",
    "X_test_umap = fitter.transform(X_test)\n",
    "\n",
    "from yellowbrick.contrib.classifier import DecisionViz # visualization\n",
    "viz = DecisionViz(\n",
    "    KNeighborsClassifier(n_neighbors=5), title=\"Nearest Neighbors\",\n",
    "    features=['Feature 1', 'Feature 2'], classes=['1', '0']\n",
    ")\n",
    "viz.fit(X_train_umap, y_train)\n",
    "viz.draw(X_test_umap, y_test)\n",
    "viz.show()"
   ]
  },
  {
   "cell_type": "markdown",
   "metadata": {},
   "source": [
    "We can see that our custom KNN_classifier derives the same results as the sklearn's KNN classifier.\n",
    "\n",
    "---\n",
    "## K-Nearest Neighbor Regressor\n",
    "\n",
    "What if we want to implement KNN as a regressor? One simple implementation of KNN regressor is replace the technique of majority voting with **the average of numerical target of the K nearest neighbors**. Another approach is to use an inverse distance weighted average of the K nearest neighbors."
   ]
  },
  {
   "cell_type": "code",
   "execution_count": 127,
   "metadata": {},
   "outputs": [],
   "source": [
    "# Generate data for classification\n",
    "diabetes = datasets.load_diabetes() # Load the classic breast cancer dataset\n",
    "X, y = diabetes.data, diabetes.target\n",
    "\n",
    "X_train, X_test, y_train, y_test = train_test_split(X, y, test_size = 0.2)"
   ]
  },
  {
   "cell_type": "code",
   "execution_count": 128,
   "metadata": {},
   "outputs": [
    {
     "name": "stdout",
     "output_type": "stream",
     "text": [
      ".. _diabetes_dataset:\n",
      "\n",
      "Diabetes dataset\n",
      "----------------\n",
      "\n",
      "Ten baseline variables, age, sex, body mass index, average blood\n",
      "pressure, and six blood serum measurements were obtained for each of n =\n",
      "442 diabetes patients, as well as the response of interest, a\n",
      "quantitative measure of disease progression one year after baseline.\n",
      "\n",
      "**Data Set Characteristics:**\n",
      "\n",
      "  :Number of Instances: 442\n",
      "\n",
      "  :Number of Attributes: First 10 columns are numeric predictive values\n",
      "\n",
      "  :Target: Column 11 is a quantitative measure of disease progression one year after baseline\n",
      "\n",
      "  :Attribute Information:\n",
      "      - Age\n",
      "      - Sex\n",
      "      - Body mass index\n",
      "      - Average blood pressure\n",
      "      - S1\n",
      "      - S2\n",
      "      - S3\n",
      "      - S4\n",
      "      - S5\n",
      "      - S6\n",
      "\n",
      "Note: Each of these 10 feature variables have been mean centered and scaled by the standard deviation times `n_samples` (i.e. the sum of squares of each column totals 1).\n",
      "\n",
      "Source URL:\n",
      "https://www4.stat.ncsu.edu/~boos/var.select/diabetes.html\n",
      "\n",
      "For more information see:\n",
      "Bradley Efron, Trevor Hastie, Iain Johnstone and Robert Tibshirani (2004) \"Least Angle Regression,\" Annals of Statistics (with discussion), 407-499.\n",
      "(https://web.stanford.edu/~hastie/Papers/LARS/LeastAngle_2002.pdf)\n"
     ]
    }
   ],
   "source": [
    "print(diabetes.DESCR)"
   ]
  },
  {
   "cell_type": "markdown",
   "metadata": {},
   "source": [
    "Check out the [sklearn documentation](https://scikit-learn.org/stable/datasets/index.html#diabetes-dataset) about the diabetes  dataset if you are interested in more detail.\n",
    "\n",
    "### Modeling"
   ]
  },
  {
   "cell_type": "code",
   "execution_count": 129,
   "metadata": {},
   "outputs": [],
   "source": [
    "class KNN_regressor:\n",
    "    def __init__(self, k=3):\n",
    "        self.k = k\n",
    "    \n",
    "    def fit(self, X, y):\n",
    "        \"\"\"\n",
    "        In KNN, this fit method doesn't actually involve any training step.\n",
    "        All it does is to store the training sample so that you can use them later.\n",
    "        \"\"\"\n",
    "        # Lazy algorithm\n",
    "        self.X_train = X\n",
    "        self.y_train = y\n",
    "    \n",
    "    def predict(self, X):\n",
    "        \"\"\"\n",
    "        Main predict method that handles multiple samples. \n",
    "        \"\"\"\n",
    "        predicted_labels = [self._predict(x) for x in X]\n",
    "        return np.array(predicted_labels)\n",
    "        \n",
    "    def _predict(self, x):\n",
    "        \"\"\"\n",
    "        Helper method for one-sample prediction.\n",
    "        \"\"\"\n",
    "        # Compute distances\n",
    "        distances = [euclidean_distance(x, x_train) for x_train in self.X_train]\n",
    "        \n",
    "        # Get k nearest samples, labels\n",
    "        k_indices = np.argsort(distances)[:self.k] # Default to ascending\n",
    "        k_nearest_values = [self.y_train[i] for i in k_indices]\n",
    "        \n",
    "        # averaging the values of the nearest neighbors\n",
    "        avgs = np.mean(k_nearest_values)\n",
    "        \n",
    "        return avgs"
   ]
  },
  {
   "cell_type": "code",
   "execution_count": 132,
   "metadata": {},
   "outputs": [
    {
     "name": "stdout",
     "output_type": "stream",
     "text": [
      "The MSE of the custom KNN model: 3589.1703370786513\n"
     ]
    }
   ],
   "source": [
    "# Custom KNN model\n",
    "from sklearn.metrics import mean_squared_error\n",
    "clf = KNN_regressor(k=5)\n",
    "clf.fit(X_train, y_train)\n",
    "predictions = clf.predict(X_test)\n",
    "print(f\"The MSE of the custom KNN model: {mean_squared_error(y_test, predictions)}\")"
   ]
  },
  {
   "cell_type": "code",
   "execution_count": 133,
   "metadata": {},
   "outputs": [
    {
     "name": "stdout",
     "output_type": "stream",
     "text": [
      "The MSE of sklearn's KNN model: 3589.1703370786513\n"
     ]
    }
   ],
   "source": [
    "# Sklearn's KNN model\n",
    "from sklearn.neighbors import KNeighborsRegressor\n",
    "clf = KNeighborsRegressor(n_neighbors=5)\n",
    "clf.fit(X_train, y_train)\n",
    "predictions = clf.predict(X_test)\n",
    "print(f\"The MSE of sklearn's KNN model: {mean_squared_error(y_test, predictions)}\")"
   ]
  },
  {
   "cell_type": "markdown",
   "metadata": {},
   "source": [
    "---\n",
    "## KNN Improvement: KD-Tree, Ball-Tree\n",
    "\n",
    "One drawback for the custom version of KNN is that it has to remember all the training data and calculates all the distances between the datapoint and all the others. When the number of datapoints increases to a very large number, this can be computationally expensive. Thus, in sklearn you can implement **KD Tree** and **Ball Tree** structure as an improvement for fast indexing.\n",
    "\n",
    "The choice of neighbors search in sklearn is controlled by the parameter **algorithm**.\n",
    "\n",
    "```python\n",
    "KNeighborsClassifier(algorithm='kd_tree')\n",
    "```\n",
    "\n",
    "Valid choice of parameter **algorithm**:\n",
    "* **`brute`**:  will use a brute-force search (calculate all the paiw-wise distance).\n",
    "* **`kd_tree`**:  will use the **KD Tree structure**.\n",
    "* **`ball_tree`**:  will use the **Ball Tree strucute**.\n",
    "* **`auto`**:  will attempt to decide the most appropriate algorithm based on the values passed to fit method.\n",
    "\n",
    "### Query Time Comparison\n",
    "\n",
    "**`N`**: number of samples,       \n",
    "**`D`**: number of features\n",
    "\n",
    "* **Brute Force**: $O[DN]$\n",
    "\n",
    "* **KD Tree**: \n",
    "    - D <=20 : $O[Dlog(N)]$\n",
    "    - D > 20 : $O[DN]$\n",
    "\n",
    "* **Ball Tree**: $O[Dlog(N)]$\n",
    "\n",
    "\n",
    "### Leaf Size\n",
    "There's one more parameter in sklearn's KNN model called leaf_size. \n",
    "\n",
    "```python\n",
    "KNeighborsClassifier(leaf_size=30)\n",
    "```\n",
    "\n",
    "This leaf_size parameter is not referenced in brute force method, thus not in our customed KNN inplementation. What this parameter does is that it controls the leaf size of the KD Ball and Tree Ball structure.\n",
    "\n",
    "For small smaple sizes (N < 30), brute force search can be more efficient than a tree-based query. Thus, when **N < leaf_size** (default value 30), the algorithm will be internally switched to brute force. \n",
    "\n",
    "You can also change this leaf_size value, and the parameter chocie has many effects.\n",
    "\n",
    "1. A **higher leaf_size value** leads to **lower number of nodes**, thus **faster tree constuction time**.\n",
    "\n",
    "2. **Both a large of a small leaf_size value lead to sub-optimal query time**. The optimal leaf_size value for fastest query time is the default value 30.\n",
    "\n",
    "3. The higher the leaf_size value, the lower the memory required to store the tree structure.\n",
    "\n",
    "\n",
    "For more detail about these nearest neighbor algorithms, check out the well-written [sklearn documentation about Nearest Neighbor Algorithms](https://scikit-learn.org/stable/modules/neighbors.html#nearest-neighbor-algorithms).\n",
    "\n",
    "---\n",
    "## Pros and Cons for KNN\n",
    "\n",
    "### Pros\n",
    "\n",
    "* No assumptions needed for the distribution of the data. Practical choice in the real world and useful for nonlinear data.\n",
    "\n",
    "* Easy to interpret and understand even for non-technical worker.\n",
    "\n",
    "* Useful for both calssification and regression problems.\n",
    "\n",
    "### Cons\n",
    "\n",
    "* As it stores all the training data, it can be computationally expensive and has high memory requirement.\n",
    "\n",
    "* When number of neighbors is set to a large number, the prediction can be slow.\n",
    "\n",
    "* Can be sensitive irrelevant features and the curse of dimensionality.\n",
    "\n",
    "* Train_Test_Split process can have significant impact on the result. \n",
    "\n",
    "---\n",
    "**Resource**: \n",
    "\n",
    "[K-Nearest Neighbors – the Laziest Machine Learning Technique by KDnuggets](https://www.kdnuggets.com/2017/09/rapidminer-k-nearest-neighbors-laziest-machine-learning-technique.html)\n",
    "\n",
    "[KNN Classification using Scikit-learn by DataCamp Avinash Navlani](https://www.datacamp.com/community/tutorials/k-nearest-neighbor-classification-scikit-learn)\n",
    "\n",
    "[Machine Learning Basics with the K-Nearest Neighbors Algorithm by Onel Harrison](https://towardsdatascience.com/machine-learning-basics-with-the-k-nearest-neighbors-algorithm-6a6e71d01761)\n",
    "\n",
    "[A Quick Introduction to K-Nearest Neighbors Algorithm](https://blog.usejournal.com/a-quick-introduction-to-k-nearest-neighbors-algorithm-62214cea29c7)\n",
    "\n",
    "[sklearn Documentation for DistanceMetric](https://scikit-learn.org/stable/modules/generated/sklearn.neighbors.DistanceMetric.html#sklearn.neighbors.DistanceMetric)\n",
    "\n",
    "[sklearn Documentation for KNeighborsClassifier](https://scikit-learn.org/stable/modules/generated/sklearn.neighbors.KNeighborsClassifier.html)\n",
    "\n",
    "[sklearn Documentation for Nearest Neighbor Algorithms](https://scikit-learn.org/stable/modules/neighbors.html#nearest-neighbor-algorithms)"
   ]
  }
 ],
 "metadata": {
  "kernelspec": {
   "display_name": "Python 3",
   "language": "python",
   "name": "python3"
  },
  "language_info": {
   "codemirror_mode": {
    "name": "ipython",
    "version": 3
   },
   "file_extension": ".py",
   "mimetype": "text/x-python",
   "name": "python",
   "nbconvert_exporter": "python",
   "pygments_lexer": "ipython3",
   "version": "3.7.7"
  }
 },
 "nbformat": 4,
 "nbformat_minor": 4
}
