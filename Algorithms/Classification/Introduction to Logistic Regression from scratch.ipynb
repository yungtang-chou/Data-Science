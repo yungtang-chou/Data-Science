{
 "cells": [
  {
   "cell_type": "markdown",
   "metadata": {},
   "source": [
    "## Introduction to Logistic Regression from scratch\n",
    "\n",
    "Logistic regression is a discriminative classification technique for binary classification problems. It's commonly used the baseline model for binary classification problem.\n",
    "\n",
    "In essence, logistic regression is similar linear regression; only difference is that the results are passed through a **Sigmoid activation function** to convert continuous outputs into probabilities. These probabilities are then turned into actual classed based on a **threshold value**.\n",
    "\n",
    "### Assumptions of Logistic Regression\n",
    "\n",
    "As mentioned above, logistic regression is a slight twisk from linear regression. As a result, key assumptions hold the same. \n",
    "\n",
    "* Little to no multicollinearity among independent variables.\n",
    "* Data points are independent.\n",
    "\n",
    "### Math behind Logistic Regression\n",
    "Given a training set of $N$ samples, $D=\\lbrace (x_1, y_1), ..., (x_N, y_N)\\rbrace$, where $x_i$ is a multidimensional input vector with dimension $P$ and class label (target or response).\n",
    "\n",
    "For each class, the classifier seek for a vector of parameters $w$ that performs a linear combination of the input variables, $x^Tw$. This step performs a **projection** or a **rotation** of input sample into a good discriminative one-dimensional sub-space, that best discriminate sample of current class vs sample of other classes.\n",
    "\n",
    "Logistic regression uses logistic function to frame binary output model.\n",
    "\n",
    "<img src=\"pic/fig1.png\" width = 200>\n",
    "\n",
    "The output of the logistic regression is transformed by a **Sigmoid Function** into a **probability** ($0≤x≤1$), and can be used to predict the binary 0 or 1 depending on the threshold value chosen."
   ]
  },
  {
   "cell_type": "markdown",
   "metadata": {},
   "source": [
    "---\n",
    "## Logistic Regression from Scratch\n",
    "\n",
    "Now let's implement logistic regression from scratch. The model will be built based on gradient descent techniques, and built solely on numpy."
   ]
  },
  {
   "cell_type": "code",
   "execution_count": 119,
   "metadata": {},
   "outputs": [],
   "source": [
    "import numpy as np\n",
    "import pandas as pd\n",
    "from sklearn.linear_model import LogisticRegression\n",
    "from sklearn.model_selection import train_test_split\n",
    "from sklearn.datasets import load_breast_cancer\n",
    "# import matplotlib.pyplot as plt\n",
    "from sklearn.metrics import accuracy_score, confusion_matrix"
   ]
  },
  {
   "cell_type": "code",
   "execution_count": 54,
   "metadata": {},
   "outputs": [],
   "source": [
    "class LogisticRegresssionManual:\n",
    "    \"\"\"\n",
    "    Implement Logistic Regression with Gradient Descent from scratch\n",
    "    \"\"\"\n",
    "    \n",
    "    def __init__(self, learning_rate = 0.001, n_iters = 1000, threshold = 0.5):\n",
    "        self.lr = learning_rate\n",
    "        self.n_iters = n_iters\n",
    "        self.weights = None\n",
    "        self.bias = None\n",
    "        self.threshold = threshold\n",
    "\n",
    "    def _sigmoid(self, x):\n",
    "        \"\"\"\n",
    "        Pass results from the fit method into sigmoid function.\n",
    "        \n",
    "        Parameters\n",
    "        --------\n",
    "        x: array, predicted probabilities\n",
    "        \"\"\"\n",
    "        return 1 / (1 + np.exp(-x))\n",
    "    \n",
    "    def fit(self, X, y):\n",
    "        \"\"\"\n",
    "        Peform iterative gradient descent\n",
    "        \n",
    "        Parameters\n",
    "        --------\n",
    "        X: array, features\n",
    "        y: array, ground truth label\n",
    "        \"\"\"\n",
    "        n_samples, n_features = X.shape\n",
    "        \n",
    "        # init parameters\n",
    "        self.weights = np.zeros(n_features)\n",
    "        self.bias = 0\n",
    "        \n",
    "        # gradient descent\n",
    "        for _ in range(self.n_iters):\n",
    "            linear_model = np.dot(X, self.weights) + self.bias\n",
    "            # apply sigmoid function\n",
    "            y_pred = self._sigmoid(linear_model)\n",
    "            \n",
    "            # compute gradients\n",
    "            dw = (1/n_samples) * np.dot(X.T, (y_pred - y))\n",
    "            db = (1/n_samples) * np.sum(y_pred - y)\n",
    "            \n",
    "            # update parameters\n",
    "            self.weights -= self.lr * dw\n",
    "            self.bias -= self.bias * db\n",
    "    \n",
    "    def predict_proba(self, X):\n",
    "        \"\"\"\n",
    "        Make probability predictions using sigmoid function.\n",
    "        \n",
    "        Parameters\n",
    "        --------\n",
    "        X: array, predicted probabilities\n",
    "        \"\"\"\n",
    "        linear_model = np.dot(X, self.weights) + self.bias\n",
    "        y_pred = self._sigmoid(linear_model)\n",
    "        return y_pred\n",
    "    \n",
    "    def predict(self, X):\n",
    "        \"\"\"\n",
    "        Make class predictions using sigmoid function. \n",
    "        \n",
    "        Parameters\n",
    "        --------\n",
    "        X: array, features\n",
    "        \"\"\"\n",
    "        y_pred = self.predict_proba(X)\n",
    "        y_pred_cls = [1 if i > self.threshold else 0 for i in y_pred]\n",
    "        return np.array(y_pred_cls)"
   ]
  },
  {
   "cell_type": "code",
   "execution_count": 63,
   "metadata": {},
   "outputs": [],
   "source": [
    "bc = load_breast_cancer() ## Binary Classification Problem\n",
    "X, y = bc.data, bc.target\n",
    "\n",
    "X_train, X_test, y_train, y_test = train_test_split(X, y, test_size = 0.2, random_state = 91)"
   ]
  },
  {
   "cell_type": "code",
   "execution_count": 91,
   "metadata": {},
   "outputs": [
    {
     "name": "stdout",
     "output_type": "stream",
     "text": [
      "SKLearn accuracy: 0.956140350877193\n",
      "SKLearn confusion metric:\n",
      "[[45  3]\n",
      " [ 2 64]]\n",
      "CPU times: user 9.02 ms, sys: 2.12 ms, total: 11.1 ms\n",
      "Wall time: 10.4 ms\n"
     ]
    }
   ],
   "source": [
    "%%time\n",
    "\n",
    "regressor = LogisticRegression(solver='liblinear')\n",
    "regressor.fit(X_train, y_train)\n",
    "predictions = regressor.predict(X_test)\n",
    "\n",
    "print(\"SKLearn accuracy:\", accuracy_score(y_test, predictions))\n",
    "print(\"SKLearn confusion metric:\")\n",
    "print(confusion_matrix(y_test, predictions))"
   ]
  },
  {
   "cell_type": "code",
   "execution_count": 101,
   "metadata": {},
   "outputs": [
    {
     "name": "stdout",
     "output_type": "stream",
     "text": [
      "Manual accuracy: 0.8947368421052632\n",
      "Manual confusion metric:\n",
      "[[44  4]\n",
      " [ 8 58]]\n",
      "CPU times: user 304 ms, sys: 24.9 ms, total: 328 ms\n",
      "Wall time: 193 ms\n"
     ]
    }
   ],
   "source": [
    "%%time\n",
    "\n",
    "regressor = LogisticRegresssionManual(learning_rate=0.0001, n_iters=5000, threshold=0.5)\n",
    "regressor.fit(X_train, y_train)\n",
    "predictions = regressor.predict(X_test)\n",
    "\n",
    "print(\"Manual accuracy:\", accuracy_score(y_test, predictions))\n",
    "print(\"Manual confusion metric:\")\n",
    "print(confusion_matrix(y_test, predictions))"
   ]
  },
  {
   "cell_type": "markdown",
   "metadata": {},
   "source": [
    "### Solvers in Sklearn\n",
    "\n",
    "From the results above, we can see there are two stunning facts.\n",
    "* Sklearn-optimized logistic regression **performs better** than manual logistic regression without tuning parameters.\n",
    "* Sklearn-optimized model **performs 30x faster** than the manual-built one.\n",
    "\n",
    "The key here is that sklearn-optimized logistic regression uses other solver instead of gradient descent. Below are some key notes on different solvers.\n",
    "\n",
    "1. **Newton**: twisted Gradient Descent with first AND second partial derivatives (The Hessian matrix) -> **quadratic approximation**\n",
    "    * It’s **computationally expensive** because of The Hessian Matrix.\n",
    "    * It attracts to **Saddle Points** which are common in multivariable optimization.\n",
    "---\n",
    "2. **Limited-memory Broyden–Fletcher–Goldfarb–Shanno Algorithm (lbfgs)**: analogue of the Newton’s Method but here **the Hessian matrix is approximated** using updates specified by gradient evaluations\n",
    "    * When dataset is **small**, lbfgs relatively **performs the best** compared to other methods\n",
    "    * If it is unsafeguarded, it may **not converge to anything**.\n",
    "\n",
    "---\n",
    "3. **A Library for Large Linear Classification (LIBLINEAR)**: coordinate descent (CD) algorithm that solves optimization problems by successively performing approximate minimization along coordinate directions or coordinate hyperplanes\n",
    "    * Recommended when you have high **dimension dataset**\n",
    "    * Get stuck at a non-stationary point (i.e. non-optima) if the level curves of a function are not smooth.\n",
    "    * Cannot learn a true multinomial (multiclass) model \n",
    "    \n",
    "### Sensitivity analysis on threshold\n",
    "Another key factor to discuss here is the **threshold value**. The default threshold for logistic regression model is 0.5. However, for most of the binary classification task, this default value is by no means the best one. To perform custom threshold value, we need to use the `predict_proba` function and conduct sensitivity analysis to see what the best threshold value is.\n",
    "\n"
   ]
  },
  {
   "cell_type": "code",
   "execution_count": 149,
   "metadata": {},
   "outputs": [
    {
     "data": {
      "image/png": "[encoded data removed]",
      "text/plain": [
       "<Figure size 864x432 with 1 Axes>"
      ]
     },
     "metadata": {
      "needs_background": "light"
     },
     "output_type": "display_data"
    }
   ],
   "source": [
    "def _run_sensitivity_analysis(X_train, y_train, X_test, y_test):\n",
    "    \"\"\"\n",
    "    Run sensitivity analysis on the threshold value\n",
    "    \n",
    "    Parameters\n",
    "    --------\n",
    "    X_train: training feature\n",
    "    y_train: training ground truth label\n",
    "    X_test: testing feature\n",
    "    y_test: testing ground truth label\n",
    "    \"\"\"\n",
    "    regressor = LogisticRegression(solver='liblinear')\n",
    "    regressor.fit(X_train, y_train)\n",
    "    prob = regressor.predict_proba(X_test)\n",
    "\n",
    "    evals = []\n",
    "    for thres in np.arange(0, 1.01, 0.01):\n",
    "        preds = [1 if p > thres else 0 for p in pd.DataFrame(prob)[1]]\n",
    "        acc = accuracy_score(y_test, preds)\n",
    "        evals.append({'Threshold': thres, 'Accuracy': acc})\n",
    "    \n",
    "    return evals\n",
    "\n",
    "def plot_threshold_analysis(X_train, y_train, X_test, y_test):\n",
    "    \"\"\"\n",
    "    Run threshold analysis and plot out the result.\n",
    "    \n",
    "    \"\"\"\n",
    "    evals = pd.DataFrame(_run_sensitivity_analysis(X_train, y_train, X_test, y_test))\n",
    "\n",
    "    best_thres = evals.sort_values(by='Accuracy', ascending=False).iloc[0]\n",
    "    default_thres = evals.iloc[50]\n",
    "\n",
    "    plt.figure(figsize=(12,6))\n",
    "    plt.plot(evals['Threshold'], evals['Accuracy'], lw=3, c='#087E8B')\n",
    "    plt.scatter(best_thres['Threshold'], best_thres['Accuracy'], label=f\"Best threshold = {best_thres['Threshold']}, Accuracy = {(best_thres['Accuracy'] * 100):.2f}%\", s=50, c='r')\n",
    "    plt.scatter(default_thres['Threshold'], default_thres['Accuracy'], label=f\"Default threshold = {default_thres['Threshold']}, Accuracy = {(default_thres['Accuracy'] * 100):.2f}%\", s=50, c='b')\n",
    "    plt.title('Threshold Optimization', size=16)\n",
    "    plt.xlabel('Threshold', size=12)\n",
    "    plt.ylabel('Accuracy', size=12)\n",
    "    plt.legend()\n",
    "    plt.show()\n",
    "\n",
    "plot_threshold_analysis(X_train, y_train, X_test, y_test)"
   ]
  },
  {
   "cell_type": "markdown",
   "metadata": {},
   "source": [
    "From the plot above, we can see that the best threshold in this **breast cancer classification dataset** is 0.84, with accuracy approaching 97.5%. Without tuning this threshold value, we can only achieve an accuracy around 95.6%.\n",
    "\n",
    "---\n",
    "### Final Topics\n",
    "\n",
    "Below are some of the topics related to logistic regression worth mentioning.\n",
    "\n",
    "#### Logit Function Explained\n",
    "\n",
    "The logit function can be written as:\n",
    "\n",
    "$$\\log(\\frac{p(X)}{1-p(X)}) = \\beta_0 + \\beta_1X$$\n",
    "\n",
    "The left-hand side is called *log-odds* or *logit*. Increasing $X$ by one unit changes the log odds by $\\beta_1$, or equivalently mmultiplies the odds by $e^{\\beta_1}$.\n",
    "\n",
    "\n",
    "#### Log Odd Explained\n",
    "\n",
    "Log odds is best explained through probability concepts. Probability of an event is a measure of the likelihood of that event.\n",
    "\n",
    "- Odds can be formulated as $p(X)/[1-p(X)]$. **The higher the value of odds, the more likely the event is to occur**.\n",
    "- Odds can take on **any value between $0$ and $\\infty$. Values of the odds close to 0 and $\\infty$ indicate very low and very high probabilities of default, respectively**.\n",
    "\n",
    "<img src=\"pic/fig2.png\" width = 200>\n",
    "\n",
    "---\n",
    "### Reference\n",
    "\n",
    "[Logistic Regression in Python - Machine Learning From Scratch](https://www.youtube.com/watch?v=JDU3AzH3WKg&list=PLqnslRFeH2Upcrywf-u2etjdxxkL8nl7E)\n",
    "\n",
    "[Logistic regression python solvers' definitions](https://stackoverflow.com/questions/38640109/logistic-regression-python-solvers-definitions)\n",
    "\n",
    "[Master Machine Learning: Logistic Regression From Scratch With Python](https://towardsdatascience.com/master-machine-learning-logistic-regression-from-scratch-with-python-acfe73a0a424)"
   ]
  }
 ],
 "metadata": {
  "kernelspec": {
   "display_name": "Python 3",
   "language": "python",
   "name": "python3"
  },
  "language_info": {
   "codemirror_mode": {
    "name": "ipython",
    "version": 3
   },
   "file_extension": ".py",
   "mimetype": "text/x-python",
   "name": "python",
   "nbconvert_exporter": "python",
   "pygments_lexer": "ipython3",
   "version": "3.7.7"
  }
 },
 "nbformat": 4,
 "nbformat_minor": 4
}
