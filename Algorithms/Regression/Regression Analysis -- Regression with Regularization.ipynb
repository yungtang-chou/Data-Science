{
 "cells": [
  {
   "cell_type": "markdown",
   "metadata": {},
   "source": [
    "# Regression Analysis: Regression with Regularization"
   ]
  },
  {
   "cell_type": "markdown",
   "metadata": {},
   "source": [
    "## Overview"
   ]
  },
  {
   "cell_type": "markdown",
   "metadata": {},
   "source": [
    "Machine Learning problem can be divided into two sub-categories -- **`Classification`** and **`Regression`** problem.\n",
    "* **`Classification`** refers to the task of assigning labels *`(yes/no, True/False, Ham/Spam)`* to data samples belonging to different classes. \n",
    "\n",
    "It can either be a two-class classification problem (mostly using **sigmoid function**) or a multi-class classifcation problem (mostly using **softmax function**). \n",
    "\n",
    "* **`Regression`**, on the other hand, refers to the task of predicting continuous values (scalar) by depicting the relationship between dependent variables and various independent features.\n",
    "\n",
    "`Linear Regression`, therefore, performs the task to predict a dependent variable value (y) based on a given independent variable (x) in a linear line. To find the line, **Ordinary Least Squared Method (OLS)** is widely used for regression problem. \n",
    "\n",
    "For complex problems, **`multivariate regression / Polynomial regression / Regularization term`** is utilized to enhance performance while at the same time restraining loss. "
   ]
  },
  {
   "cell_type": "markdown",
   "metadata": {},
   "source": [
    "While Linear Regression is the most loved regression models of all, it is not the most robust and rigid, and may present multiple problems."
   ]
  },
  {
   "cell_type": "markdown",
   "metadata": {},
   "source": [
    "In this notebook, we will take a look about a **`simple linear regression model`** as well as the topic of **`regularization`**.\n",
    "\n",
    "In later notebook we will dive deeper into other forms of regression models."
   ]
  },
  {
   "cell_type": "markdown",
   "metadata": {},
   "source": [
    "---"
   ]
  },
  {
   "cell_type": "markdown",
   "metadata": {},
   "source": [
    "## Notebook Setting"
   ]
  },
  {
   "cell_type": "code",
   "execution_count": 61,
   "metadata": {},
   "outputs": [],
   "source": [
    "import numpy as np\n",
    "import pandas as pd\n",
    "import matplotlib.pyplot as plt\n",
    "import seaborn as sns\n",
    "from datetime import datetime\n",
    "import warnings\n",
    "warnings.filterwarnings('ignore')\n",
    "sns.set_style(\"darkgrid\")"
   ]
  },
  {
   "cell_type": "markdown",
   "metadata": {},
   "source": [
    "Here we will use the famous Boston Housing Dataset."
   ]
  },
  {
   "cell_type": "code",
   "execution_count": 2,
   "metadata": {},
   "outputs": [
    {
     "data": {
      "text/html": [
       "<div>\n",
       "<style scoped>\n",
       "    .dataframe tbody tr th:only-of-type {\n",
       "        vertical-align: middle;\n",
       "    }\n",
       "\n",
       "    .dataframe tbody tr th {\n",
       "        vertical-align: top;\n",
       "    }\n",
       "\n",
       "    .dataframe thead th {\n",
       "        text-align: right;\n",
       "    }\n",
       "</style>\n",
       "<table border=\"1\" class=\"dataframe\">\n",
       "  <thead>\n",
       "    <tr style=\"text-align: right;\">\n",
       "      <th></th>\n",
       "      <th>Target</th>\n",
       "      <th>CRIM</th>\n",
       "      <th>ZN</th>\n",
       "      <th>INDUS</th>\n",
       "      <th>CHAS</th>\n",
       "      <th>NOX</th>\n",
       "      <th>RM</th>\n",
       "      <th>AGE</th>\n",
       "      <th>DIS</th>\n",
       "      <th>RAD</th>\n",
       "      <th>TAX</th>\n",
       "      <th>PTRATIO</th>\n",
       "      <th>B</th>\n",
       "      <th>LSTAT</th>\n",
       "    </tr>\n",
       "  </thead>\n",
       "  <tbody>\n",
       "    <tr>\n",
       "      <th>0</th>\n",
       "      <td>24.0</td>\n",
       "      <td>0.00632</td>\n",
       "      <td>18.0</td>\n",
       "      <td>2.31</td>\n",
       "      <td>0.0</td>\n",
       "      <td>0.538</td>\n",
       "      <td>6.575</td>\n",
       "      <td>65.2</td>\n",
       "      <td>4.0900</td>\n",
       "      <td>1.0</td>\n",
       "      <td>296.0</td>\n",
       "      <td>15.3</td>\n",
       "      <td>396.90</td>\n",
       "      <td>4.98</td>\n",
       "    </tr>\n",
       "    <tr>\n",
       "      <th>1</th>\n",
       "      <td>21.6</td>\n",
       "      <td>0.02731</td>\n",
       "      <td>0.0</td>\n",
       "      <td>7.07</td>\n",
       "      <td>0.0</td>\n",
       "      <td>0.469</td>\n",
       "      <td>6.421</td>\n",
       "      <td>78.9</td>\n",
       "      <td>4.9671</td>\n",
       "      <td>2.0</td>\n",
       "      <td>242.0</td>\n",
       "      <td>17.8</td>\n",
       "      <td>396.90</td>\n",
       "      <td>9.14</td>\n",
       "    </tr>\n",
       "    <tr>\n",
       "      <th>2</th>\n",
       "      <td>34.7</td>\n",
       "      <td>0.02729</td>\n",
       "      <td>0.0</td>\n",
       "      <td>7.07</td>\n",
       "      <td>0.0</td>\n",
       "      <td>0.469</td>\n",
       "      <td>7.185</td>\n",
       "      <td>61.1</td>\n",
       "      <td>4.9671</td>\n",
       "      <td>2.0</td>\n",
       "      <td>242.0</td>\n",
       "      <td>17.8</td>\n",
       "      <td>392.83</td>\n",
       "      <td>4.03</td>\n",
       "    </tr>\n",
       "    <tr>\n",
       "      <th>3</th>\n",
       "      <td>33.4</td>\n",
       "      <td>0.03237</td>\n",
       "      <td>0.0</td>\n",
       "      <td>2.18</td>\n",
       "      <td>0.0</td>\n",
       "      <td>0.458</td>\n",
       "      <td>6.998</td>\n",
       "      <td>45.8</td>\n",
       "      <td>6.0622</td>\n",
       "      <td>3.0</td>\n",
       "      <td>222.0</td>\n",
       "      <td>18.7</td>\n",
       "      <td>394.63</td>\n",
       "      <td>2.94</td>\n",
       "    </tr>\n",
       "    <tr>\n",
       "      <th>4</th>\n",
       "      <td>36.2</td>\n",
       "      <td>0.06905</td>\n",
       "      <td>0.0</td>\n",
       "      <td>2.18</td>\n",
       "      <td>0.0</td>\n",
       "      <td>0.458</td>\n",
       "      <td>7.147</td>\n",
       "      <td>54.2</td>\n",
       "      <td>6.0622</td>\n",
       "      <td>3.0</td>\n",
       "      <td>222.0</td>\n",
       "      <td>18.7</td>\n",
       "      <td>396.90</td>\n",
       "      <td>5.33</td>\n",
       "    </tr>\n",
       "  </tbody>\n",
       "</table>\n",
       "</div>"
      ],
      "text/plain": [
       "   Target     CRIM    ZN  INDUS  CHAS    NOX     RM   AGE     DIS  RAD    TAX  \\\n",
       "0    24.0  0.00632  18.0   2.31   0.0  0.538  6.575  65.2  4.0900  1.0  296.0   \n",
       "1    21.6  0.02731   0.0   7.07   0.0  0.469  6.421  78.9  4.9671  2.0  242.0   \n",
       "2    34.7  0.02729   0.0   7.07   0.0  0.469  7.185  61.1  4.9671  2.0  242.0   \n",
       "3    33.4  0.03237   0.0   2.18   0.0  0.458  6.998  45.8  6.0622  3.0  222.0   \n",
       "4    36.2  0.06905   0.0   2.18   0.0  0.458  7.147  54.2  6.0622  3.0  222.0   \n",
       "\n",
       "   PTRATIO       B  LSTAT  \n",
       "0     15.3  396.90   4.98  \n",
       "1     17.8  396.90   9.14  \n",
       "2     17.8  392.83   4.03  \n",
       "3     18.7  394.63   2.94  \n",
       "4     18.7  396.90   5.33  "
      ]
     },
     "execution_count": 2,
     "metadata": {},
     "output_type": "execute_result"
    }
   ],
   "source": [
    "from sklearn.datasets import load_boston\n",
    "\n",
    "boston_dataset = load_boston()\n",
    "\n",
    "boston = pd.DataFrame(boston_dataset.data, columns=boston_dataset.feature_names)\n",
    "boston['Target'] = boston_dataset.target\n",
    "boston = boston[boston.columns[-1:].append(boston.columns[:-1])]\n",
    "boston.head()"
   ]
  },
  {
   "cell_type": "code",
   "execution_count": 3,
   "metadata": {},
   "outputs": [
    {
     "data": {
      "text/plain": [
       "False"
      ]
     },
     "execution_count": 3,
     "metadata": {},
     "output_type": "execute_result"
    }
   ],
   "source": [
    "boston.isnull().values.any()"
   ]
  },
  {
   "cell_type": "markdown",
   "metadata": {},
   "source": [
    "**No null value is detected. It's good to go!**"
   ]
  },
  {
   "cell_type": "markdown",
   "metadata": {},
   "source": [
    "---"
   ]
  },
  {
   "cell_type": "markdown",
   "metadata": {},
   "source": [
    "## Linear Regression"
   ]
  },
  {
   "cell_type": "markdown",
   "metadata": {},
   "source": [
    "A normal linear regression is a statistical method that models the relationship between variables. In regression, it is believed that the relationship between two variables can be explained by the formula:"
   ]
  },
  {
   "cell_type": "markdown",
   "metadata": {},
   "source": [
    "<img src='pic/lr.png' width=\"200\" height=\"100\">\n",
    "\n",
    "<img src='pic/error.png' width=\"400\" height=\"150\">"
   ]
  },
  {
   "cell_type": "markdown",
   "metadata": {},
   "source": [
    "**`εi`**: the error term between the line and the data point\n",
    "\n",
    "**`α`** : intercept of the regression time. \n",
    "\n",
    "**`β`** : coefficient of the variable. It represents the variation of the dependent variable when the independent variable changes.\n",
    "\n",
    "**`α, β`** are the unobserved parameters that we want to retrieve from this regression model."
   ]
  },
  {
   "cell_type": "markdown",
   "metadata": {},
   "source": [
    "An ordinary least squares model tends to fit the training data pretty well, but this nature makes the model less flexible to unknown dataset. Therefore, the model will have a low accuracy for testing dataset if it overfits on the training data. We will see how to deal with overfitting with regularization later in this notebook."
   ]
  },
  {
   "cell_type": "markdown",
   "metadata": {},
   "source": [
    "## Loss Function"
   ]
  },
  {
   "cell_type": "markdown",
   "metadata": {},
   "source": [
    "To evaluate the performance of the regression model, various loss functions are introduced and are preferred in different scenario."
   ]
  },
  {
   "cell_type": "markdown",
   "metadata": {},
   "source": [
    "<img src='pic/loss_all.png' width=\"400\" height=\"150\">"
   ]
  },
  {
   "cell_type": "code",
   "execution_count": 77,
   "metadata": {},
   "outputs": [],
   "source": [
    "def mse(pred, y_test):\n",
    "    sum_err = 0.0\n",
    "    y = y_test.values\n",
    "    for i in range(len(y_test)):\n",
    "        err = pred[i] - y[i]\n",
    "        sum_err += (err**2)\n",
    "    return(sum_err / float(len(pred)))"
   ]
  },
  {
   "cell_type": "markdown",
   "metadata": {},
   "source": [
    "We will first **`MSE (Mean Squared Error)`** to evaluate the practice toy example below. At the end of this notebook, we will dive deeper into difference loss function / metrics as well as their respective strength and weaknesses"
   ]
  },
  {
   "cell_type": "markdown",
   "metadata": {},
   "source": [
    "## Preparation"
   ]
  },
  {
   "cell_type": "code",
   "execution_count": 4,
   "metadata": {},
   "outputs": [],
   "source": [
    "from sklearn.linear_model import LinearRegression, LassoCV, RidgeCV, ElasticNetCV\n",
    "from sklearn.model_selection import train_test_split"
   ]
  },
  {
   "cell_type": "code",
   "execution_count": 78,
   "metadata": {},
   "outputs": [],
   "source": [
    "X = boston.drop(columns=['Target'])\n",
    "y = boston['Target']"
   ]
  },
  {
   "cell_type": "code",
   "execution_count": 87,
   "metadata": {},
   "outputs": [],
   "source": [
    "X_train, X_test, y_train, y_test = train_test_split(X, y, test_size=0.3)"
   ]
  },
  {
   "cell_type": "markdown",
   "metadata": {},
   "source": [
    "## Linear Regression from Scratch"
   ]
  },
  {
   "cell_type": "markdown",
   "metadata": {},
   "source": [
    "One approch to solve linear regression problem is to get the closed-form solution as below:"
   ]
  },
  {
   "cell_type": "markdown",
   "metadata": {},
   "source": [
    "<img src='pic/closedform.png' width=\"300\" height=\"150\">"
   ]
  },
  {
   "cell_type": "code",
   "execution_count": 89,
   "metadata": {},
   "outputs": [],
   "source": [
    "class LinearRegression:\n",
    "    def __init__(self, fit_intercept = True, lr = 0.00000001,  n_iter = int(1e5)):\n",
    "        \"\"\"\n",
    "        Initialize trhe calss\n",
    "        fit_intercept: Boolean switch to indicate whether \n",
    "                       to include an intercept in the model.\n",
    "        \"\"\"\n",
    "        self.coef_ = None\n",
    "        self.intercept_ = None\n",
    "        self._fit_intercept = fit_intercept\n",
    "        self.n_features = X.shape[1]\n",
    "        self.n_samples = len(y)\n",
    "        self.n_iter = n_iter\n",
    "        self.lr = lr\n",
    "        self.X = np.hstack((np.ones((self.n_samples, 1)), # initialize the bias term\n",
    "                            (X - np.mean(X, 0)) / np.std(X, 0))) # z-score\n",
    "        self.y = y[:, np.newaxis] # \n",
    "        self.params = np.random.random((X.shape[1] + 1, 1)) / 10 # randomize coefficients\n",
    "\n",
    "    def __repr__(self): # show discription when called\n",
    "        return \"I am a Linear Regression model!\"\n",
    "    \n",
    "    def fit(self, X, y):\n",
    "        \"\"\"\n",
    "        Fit model coefficients. Here we use the closed-form solution method.\n",
    "        \n",
    "        Arguments:\n",
    "        X: 1D or 2D numpy array\n",
    "        y: 1D numpy array\n",
    "        \"\"\"      \n",
    "        \n",
    "        # check if X is 1D or 2D array\n",
    "        if len(X.shape) == 1:\n",
    "            X = X.reshape(-1,1)\n",
    "\n",
    "        # add bias if fit_intercept is True\n",
    "        if self._fit_intercept:\n",
    "            X_biased = np.c_[np.ones(X.shape[0]), X]\n",
    "        else:\n",
    "            X_biased = X\n",
    "\n",
    "        # closed-form solution\n",
    "        xTx = np.dot(X_biased.T, X_biased)\n",
    "        inverse_xTx = np.linalg.inv(xTx)\n",
    "        xTy = np.dot(X_biased.T, y)\n",
    "        self.params = np.dot(inverse_xTx, xTy)\n",
    "\n",
    "        # set attributes\n",
    "        if self._fit_intercept:\n",
    "            self.intercept_ = self.params[0]\n",
    "            self.coef_ = self.params[1:]\n",
    "    \n",
    "    def predict(self, X):\n",
    "        \"\"\"\n",
    "        Output model prediction.\n",
    "        \n",
    "        Arguments:\n",
    "        X: 1D or 2D numpy array.\n",
    "        \"\"\"\n",
    "        \n",
    "        # check if X is 1D or 2D array\n",
    "        if len(X.shape) == 1:\n",
    "            X = X.reshape(-1,1)\n",
    "        \n",
    "        self.predicted_ = self.intercept_ + np.dot(X, self.coef_)\n",
    "        return(self.predicted_)"
   ]
  },
  {
   "cell_type": "code",
   "execution_count": 91,
   "metadata": {},
   "outputs": [],
   "source": [
    "mlr = LinearRegression()\n",
    "mlr.fit(X_train, y_train)"
   ]
  },
  {
   "cell_type": "code",
   "execution_count": 92,
   "metadata": {},
   "outputs": [
    {
     "name": "stdout",
     "output_type": "stream",
     "text": [
      "The coefficients are [-8.06537482e-02  5.07735518e-02  2.61950157e-02  4.54049650e+00\n",
      " -2.05361707e+01  5.11812583e+00 -1.23361131e-03 -1.44730255e+00\n",
      "  2.95779411e-01 -1.33499164e-02 -8.35415154e-01  7.69524555e-03\n",
      " -4.16275041e-01].\n"
     ]
    }
   ],
   "source": [
    "print(f'The coefficients are {mlr.coef_}.')"
   ]
  },
  {
   "cell_type": "code",
   "execution_count": 93,
   "metadata": {},
   "outputs": [
    {
     "name": "stdout",
     "output_type": "stream",
     "text": [
      "The intercept for this regression line is 27.12178800811307.\n"
     ]
    }
   ],
   "source": [
    "print(f'The intercept for this regression line is {mlr.intercept_}.')"
   ]
  },
  {
   "cell_type": "code",
   "execution_count": 94,
   "metadata": {},
   "outputs": [],
   "source": [
    "pred = mlr.predict(X_test)"
   ]
  },
  {
   "cell_type": "code",
   "execution_count": 95,
   "metadata": {},
   "outputs": [],
   "source": [
    "result = {}\n",
    "result['Custom Linear Regression'] = mse(pred, y_test)"
   ]
  },
  {
   "cell_type": "markdown",
   "metadata": {},
   "source": [
    "Let's create another benchmark using the sklearn built-in linear regression model."
   ]
  },
  {
   "cell_type": "code",
   "execution_count": 96,
   "metadata": {},
   "outputs": [],
   "source": [
    "from sklearn.linear_model import LinearRegression\n",
    "lr = LinearRegression(normalize=True)"
   ]
  },
  {
   "cell_type": "code",
   "execution_count": 97,
   "metadata": {},
   "outputs": [
    {
     "data": {
      "text/plain": [
       "LinearRegression(copy_X=True, fit_intercept=True, n_jobs=None, normalize=True)"
      ]
     },
     "execution_count": 97,
     "metadata": {},
     "output_type": "execute_result"
    }
   ],
   "source": [
    "lr.fit(X_train, y_train)"
   ]
  },
  {
   "cell_type": "code",
   "execution_count": 98,
   "metadata": {},
   "outputs": [],
   "source": [
    "lr_pred = lr.predict(X_test)"
   ]
  },
  {
   "cell_type": "code",
   "execution_count": 99,
   "metadata": {},
   "outputs": [
    {
     "data": {
      "text/plain": [
       "29.516015953838643"
      ]
     },
     "execution_count": 99,
     "metadata": {},
     "output_type": "execute_result"
    }
   ],
   "source": [
    "mse(lr_pred, y_test)"
   ]
  },
  {
   "cell_type": "code",
   "execution_count": 100,
   "metadata": {},
   "outputs": [],
   "source": [
    "result['Sklearn Linear Regression'] = mse(lr_pred, y_test)"
   ]
  },
  {
   "cell_type": "markdown",
   "metadata": {},
   "source": [
    "## Why Regularization is important?"
   ]
  },
  {
   "cell_type": "markdown",
   "metadata": {},
   "source": [
    "One common problem in machine learning is overfitting, where a model fail to generalize and capture too much **noise** from the training data, meaning those information that cannot represent the true nature of the data, from your training data."
   ]
  },
  {
   "cell_type": "markdown",
   "metadata": {},
   "source": [
    "<img src=\"pic/overfit.gif\" width=\"400\" height=\"400\">"
   ]
  },
  {
   "cell_type": "markdown",
   "metadata": {},
   "source": [
    "This problem can further lead us to the topic of bias-variance tradeoff. For each machine learning models, the error comes from either bias or variance of the model."
   ]
  },
  {
   "cell_type": "markdown",
   "metadata": {},
   "source": [
    "<img src=\"pic/biasvar.jpg\" width=\"300\" height=\"300\">"
   ]
  },
  {
   "cell_type": "markdown",
   "metadata": {},
   "source": [
    "**`Bias`** refers to the correctness of the model's prediction. High bias means that the center of the predictions is way off target, while low bias indicates the center of those predictions to be near the target.\n",
    "\n",
    "**`Variance`**, on the other hand, refers to how much a prediction could potentially vary if one of the variable changes. This metrics also depends on the number of samples. "
   ]
  },
  {
   "cell_type": "markdown",
   "metadata": {},
   "source": [
    "<img src=\"pic/bvex.png\" width=\"600\" height=\"300\">"
   ]
  },
  {
   "cell_type": "markdown",
   "metadata": {},
   "source": [
    "The **`low-bias, high-variance`** model often indicates overfitting, which means that the model learns too much from the training data that it even captures **noise** that is not part of the characteristic of the data, thus producing more errors when testing on the testing data. Error can even grow exponentially if the model overfits the training data too much.\n",
    "\n",
    "The **`high-bias, low-variance`** model, on the other hand, exhibits underfitting, which means that the model doesn't learn much from the traninig data, thereby creating a \"way too simple\" model that can only capture few property of the dataset. \n",
    "\n",
    "Neither of those two above is ideal, and it's really important to strike a balance between bias and variance to find a good fit for the dataset."
   ]
  },
  {
   "cell_type": "markdown",
   "metadata": {},
   "source": [
    "<img src=\"pic/bv.png\" width=\"340\" height=\"300\">"
   ]
  },
  {
   "cell_type": "markdown",
   "metadata": {},
   "source": [
    "In general, **the more complex the model is, the lower the error comes from bias but the higher the error comes from variance.**\n",
    "\n",
    "Therefore, we need to look for the optimal complexity of the solution in which total error (bias + variance + error) is minimized."
   ]
  },
  {
   "cell_type": "markdown",
   "metadata": {},
   "source": [
    "One robust approach do deal with overfitting is **`Regularization`**. It is a technique that eliminates the extent of overfitting by adding a penalty term, which is related to the coefficients, to the loss function. By doing so, the variance of the model is reduced since the curve will be smoother(smaller coefficients), and thus the model can generalize to other similar but not identical dataset. \n",
    "\n",
    "The model generalizes by shrinking the coefficient to a small value. Therefore,  **it encourages the model to be smoother and discourages a more complex model so as to avoid the risk of overfitting**. \n",
    "\n",
    "In the following we will introduce three kinds of regression model that combine regularization -- **`Lasso Regression, Ridge Regression, and Elastic Net Regression`**."
   ]
  },
  {
   "cell_type": "markdown",
   "metadata": {},
   "source": [
    "## L2 Regularization (aka. Ridge Regression)"
   ]
  },
  {
   "cell_type": "markdown",
   "metadata": {},
   "source": [
    "L2 Regulazation, by its name, penalizing high coefficients using squared terms. It adds **squared magnitude** of coefficient multiplied by a constant $\\lambda$ as the penalty term to the loss function. The formula below indicates cost that we want to minimize."
   ]
  },
  {
   "cell_type": "markdown",
   "metadata": {},
   "source": [
    "<img src=\"pic/ridge.png\" width=\"600\" height=\"400\">"
   ]
  },
  {
   "cell_type": "markdown",
   "metadata": {},
   "source": [
    "The `sum of squares of weights` term is also called the `shrinkage quantity`, and should be minimized to get a smoother line that are not affected too much by noise. Therefore, the coefficient of each variabe should be closed to small. Notice that we are not minimizing the intercept term in this case. \n",
    "\n",
    "The $\\lambda$ term is the parameter that determines how much we want to penalize the high coefficients. **As the value of $\\lambda$ increases, the coefficient is reduced and so is the variance**. The lower of variance, the lesser the possibility that overfitting occurs.  \n",
    "\n",
    "In general, **The lower the $\\lambda$, the closer it is to the ordinary least squares method. The higher the $\\lambda$, the lower the coefficients will be, and the flatter the line will be.**\n",
    "\n",
    "An overly high $\\lambda$ can also result in underfitting of the model, as now the coefficient becomes \"too regularized\" that cannot show the relationship and start to loose important information regarding the relationship of target and varibles. **Therefore, tuning the value of $\\lambda$ is a critical problem be be aware of.**"
   ]
  },
  {
   "cell_type": "code",
   "execution_count": 101,
   "metadata": {},
   "outputs": [],
   "source": [
    "ridge = RidgeCV(alphas=(0.1, 1.0, 10.0), normalize=True, cv = 5)"
   ]
  },
  {
   "cell_type": "markdown",
   "metadata": {},
   "source": [
    "The `alphas` variable indicates the array of regularization coefficients $\\lambda$ to try. Larger values specify stronger regularization.\n",
    "\n",
    "Also note that normalizing your numerical data before feeding into the model is always great habit. You can do this simply by setting `normalize = True`."
   ]
  },
  {
   "cell_type": "code",
   "execution_count": 102,
   "metadata": {},
   "outputs": [],
   "source": [
    "ridge.fit(X_train,y_train)\n",
    "ridge_pred = ridge.predict(X_test)"
   ]
  },
  {
   "cell_type": "code",
   "execution_count": 104,
   "metadata": {},
   "outputs": [
    {
     "data": {
      "text/plain": [
       "29.21889868668662"
      ]
     },
     "execution_count": 104,
     "metadata": {},
     "output_type": "execute_result"
    }
   ],
   "source": [
    "mse(ridge_pred,y_test)"
   ]
  },
  {
   "cell_type": "code",
   "execution_count": 103,
   "metadata": {},
   "outputs": [],
   "source": [
    "result['Ridge Regression'] = mse(ridge_pred,y_test)"
   ]
  },
  {
   "cell_type": "markdown",
   "metadata": {},
   "source": [
    "Beware that **Ridge Regression is useful for the grouping effect, as colinear features will be selected together**."
   ]
  },
  {
   "cell_type": "markdown",
   "metadata": {},
   "source": [
    "## L1 Regularization (aka. Lasso Regression )"
   ]
  },
  {
   "cell_type": "markdown",
   "metadata": {},
   "source": [
    "L1 Regularization, by its name, uses absolute value in penalizing high coefficients. It adds the **absolute magnitude** of coefficient multiplied by a constant $\\lambda$ as the penality term to the loss function. This additional term penalizes the model for having coefficients that do not explain a sufficient amount of variance in the data. \n",
    "\n",
    "If $\\lambda$ shrinks to zero, the regression model will become an ordinary least squares model. On the other hand, if $\\lambda$ increases to infinity, coefficients will lean toward zero and the model will be the constant, baseline model with only the intercept.\n",
    "\n",
    "One key difference is that **L1 regularization shrinks the coefficient of the less important feature to zero more quickly than L2 regularization**. Therefore, it's also used as a technique in selecting features that are not important for the regression model."
   ]
  },
  {
   "cell_type": "markdown",
   "metadata": {},
   "source": [
    "<img src=\"pic/lasso.png\" width=\"600\" height=\"400\">"
   ]
  },
  {
   "cell_type": "code",
   "execution_count": 105,
   "metadata": {},
   "outputs": [],
   "source": [
    "lasso = LassoCV(normalize=True, cv = 5)"
   ]
  },
  {
   "cell_type": "code",
   "execution_count": 106,
   "metadata": {},
   "outputs": [],
   "source": [
    "lasso.fit(X_train, y_train)\n",
    "lasso_pred = lasso.predict(X_test)"
   ]
  },
  {
   "cell_type": "code",
   "execution_count": 107,
   "metadata": {},
   "outputs": [
    {
     "data": {
      "text/plain": [
       "29.476824399012937"
      ]
     },
     "execution_count": 107,
     "metadata": {},
     "output_type": "execute_result"
    }
   ],
   "source": [
    "mse(lasso_pred,y_test)"
   ]
  },
  {
   "cell_type": "code",
   "execution_count": 108,
   "metadata": {},
   "outputs": [],
   "source": [
    "result['Lasso Regression'] = mse(lasso_pred,y_test)"
   ]
  },
  {
   "cell_type": "markdown",
   "metadata": {},
   "source": [
    "Lasso, however, struggles with dataset that has more variables(features) than observations(n). In this case, **Lasso will pick at most n predictors as non-zero, even if all predictors are relevant**. \n",
    "\n",
    "Lasso also has difficulty in dealing with colinear features. **It will randomly choose one feature to represent the full suite of correlated features, which is bad for interpretation**. Beware to take a look at assumptions for linear models and deal with the problems before implementing algorithms!"
   ]
  },
  {
   "cell_type": "markdown",
   "metadata": {},
   "source": [
    "### L1 Regularization as a Feature Selection Tool"
   ]
  },
  {
   "cell_type": "markdown",
   "metadata": {},
   "source": [
    "Lasso regression is also widely used in feature selection, since it can shrink the coeffiecient of non-important features to zero."
   ]
  },
  {
   "cell_type": "code",
   "execution_count": 109,
   "metadata": {},
   "outputs": [],
   "source": [
    "from sklearn.preprocessing import StandardScaler\n",
    "from sklearn.feature_selection import SelectFromModel"
   ]
  },
  {
   "cell_type": "code",
   "execution_count": 110,
   "metadata": {},
   "outputs": [
    {
     "data": {
      "text/plain": [
       "StandardScaler(copy=True, with_mean=True, with_std=True)"
      ]
     },
     "execution_count": 110,
     "metadata": {},
     "output_type": "execute_result"
    }
   ],
   "source": [
    "scaler = StandardScaler()\n",
    "scaler.fit(X_train)"
   ]
  },
  {
   "cell_type": "code",
   "execution_count": 111,
   "metadata": {},
   "outputs": [
    {
     "data": {
      "text/plain": [
       "SelectFromModel(estimator=LassoCV(alphas=None, copy_X=True, cv='warn', eps=0.001, fit_intercept=True,\n",
       "    max_iter=1000, n_alphas=100, n_jobs=None, normalize=False,\n",
       "    positive=False, precompute='auto', random_state=None,\n",
       "    selection='cyclic', tol=0.0001, verbose=False),\n",
       "        max_features=None, norm_order=1, prefit=False, threshold=None)"
      ]
     },
     "execution_count": 111,
     "metadata": {},
     "output_type": "execute_result"
    }
   ],
   "source": [
    "selector = SelectFromModel(LassoCV())\n",
    "selector.fit(scaler.transform(X_train), y_train)"
   ]
  },
  {
   "cell_type": "code",
   "execution_count": 112,
   "metadata": {
    "scrolled": true
   },
   "outputs": [
    {
     "data": {
      "text/plain": [
       "array([ True,  True, False,  True,  True,  True, False,  True,  True,\n",
       "        True,  True,  True,  True])"
      ]
     },
     "execution_count": 112,
     "metadata": {},
     "output_type": "execute_result"
    }
   ],
   "source": [
    "selector.get_support()"
   ]
  },
  {
   "cell_type": "markdown",
   "metadata": {},
   "source": [
    "If **`return == 'True'`**, it means that the variable is **important (will not shrink to zero.)**\n",
    "\n",
    "\n",
    "If **`return == 'False'`**, it means that the variable is **not important and will shrink to zero!**\n",
    "\n",
    "If the coefficient of the variable shrinks to zero, we can drop those features."
   ]
  },
  {
   "cell_type": "markdown",
   "metadata": {},
   "source": [
    "---"
   ]
  },
  {
   "cell_type": "markdown",
   "metadata": {},
   "source": [
    "## Comparison Between L1 and L2 Regularization"
   ]
  },
  {
   "cell_type": "markdown",
   "metadata": {},
   "source": [
    "The image below shows the shrinkage quantity function (green areas) for L1 Regularization (left) and L2 Regularization (right), along with contours for the RSS (red contours). The intersection between two two figures are the estimated coefficients."
   ]
  },
  {
   "cell_type": "markdown",
   "metadata": {},
   "source": [
    "<img src=\"pic/reg.png\" width=\"600\" height=\"400\">"
   ]
  },
  {
   "cell_type": "markdown",
   "metadata": {},
   "source": [
    "For L1 Regularization (left), we can easily see that the two figures will often intersect on the four vertices (at least more commmon than L2 Regularization). Hence, **L1 Regularization can quickly shrink the coefficient estimates to zero**.\n",
    "\n",
    "Regarding L2 Regularization (right), since the shrinkage quantity function has a circular areas, there's no vertices and thus will  generally not intersect on the x and y axes. Therefore, **L2 Regularization will hardly produce zero coefficient estimates**."
   ]
  },
  {
   "cell_type": "markdown",
   "metadata": {},
   "source": [
    "Generally speaking, **Lasso Regression cares about driving large coefficents down to small ones, or driviing small ones to zero.**\n",
    "\n",
    "However, **Ridge Regression gives small but well distributed coefficients, and thus cares more about driving large coefficients down to small ones**."
   ]
  },
  {
   "cell_type": "markdown",
   "metadata": {},
   "source": [
    "Meanwhile, according to the research by [(Hou, Hastie, 2005)](https://web.stanford.edu/~hastie/Papers/B67.2%20%282005%29%20301-320%20Zou%20&%20Hastie.pdf), neither Lasso nor Ridge is consistently better than the other; one should try both methods to determine which to use."
   ]
  },
  {
   "cell_type": "markdown",
   "metadata": {},
   "source": [
    "## Elastic Net Regression"
   ]
  },
  {
   "cell_type": "markdown",
   "metadata": {},
   "source": [
    "To capture the benefit of both L1 and L2 Regularization, Elastic Net Regression is invented by combining penalty terms for the two regularization. It has been found to have **better predictive power than Lasso while preserving the feature selection effects**.\n",
    "\n",
    "The Elastic Net, however, comes with additional burden of determining two $\\lambda$ values for the two penalizing term."
   ]
  },
  {
   "cell_type": "markdown",
   "metadata": {},
   "source": [
    "<img src='pic/en.png' width=400 height=300>"
   ]
  },
  {
   "cell_type": "code",
   "execution_count": 113,
   "metadata": {},
   "outputs": [],
   "source": [
    "elas = ElasticNetCV(normalize=True, cv = 5)"
   ]
  },
  {
   "cell_type": "code",
   "execution_count": 114,
   "metadata": {},
   "outputs": [],
   "source": [
    "elas.fit(X_train, y_train)\n",
    "elas_pred = elas.predict(X_test)"
   ]
  },
  {
   "cell_type": "code",
   "execution_count": 115,
   "metadata": {},
   "outputs": [
    {
     "data": {
      "text/plain": [
       "29.25614124947151"
      ]
     },
     "execution_count": 115,
     "metadata": {},
     "output_type": "execute_result"
    }
   ],
   "source": [
    "mse(elas_pred, y_test)"
   ]
  },
  {
   "cell_type": "code",
   "execution_count": 116,
   "metadata": {},
   "outputs": [],
   "source": [
    "result['Elastic Net'] = mse(elas_pred, y_test)"
   ]
  },
  {
   "cell_type": "markdown",
   "metadata": {},
   "source": [
    "### Model Performance"
   ]
  },
  {
   "cell_type": "code",
   "execution_count": 117,
   "metadata": {},
   "outputs": [
    {
     "name": "stdout",
     "output_type": "stream",
     "text": [
      "Mean Squared Error of Custom Linear Regression: 29.52\n",
      "Mean Squared Error of Sklearn Linear Regression: 29.52\n",
      "Mean Squared Error of Ridge Regression: 29.22\n",
      "Mean Squared Error of Lasso Regression: 29.48\n",
      "Mean Squared Error of Elastic Net: 29.26\n"
     ]
    }
   ],
   "source": [
    "for i, j in result.items():\n",
    "    print(f'Mean Squared Error of {i}: {j:0.4}')"
   ]
  },
  {
   "cell_type": "markdown",
   "metadata": {},
   "source": [
    "In this example, we can see that Ridge Regression was the best model based on the MSE metric.\n",
    "\n",
    "From the dictionary above we still cannot see important advantages of **Lasso and Ridge Regression**. However, it's not saying that these models are not worth taking a look. The idea of which model to use depends on your goal of analysis. \n",
    "\n",
    "In later example, we will use **`Polynomial Linear Regression`** to demonstrate how L1 and L2 differs in terms of coefficient shrinkage."
   ]
  },
  {
   "cell_type": "markdown",
   "metadata": {},
   "source": [
    "## Let's compare the result with polynomial features!"
   ]
  },
  {
   "cell_type": "code",
   "execution_count": 118,
   "metadata": {},
   "outputs": [],
   "source": [
    "from sklearn.preprocessing import PolynomialFeatures\n",
    "from sklearn.pipeline import Pipeline"
   ]
  },
  {
   "cell_type": "markdown",
   "metadata": {},
   "source": [
    "For simplicity, let's assume that the order of coefficients in the model can grow up to the power of five.\n",
    "\n",
    "For polynomial coefficients, the order is `['intercept', 'x0', 'x1', 'x0^2', 'x0 x1', 'x1^2', .....] `\n",
    "\n",
    "Thus, we will retrieve the coef for the 13 variables with slicer `[1:14]`"
   ]
  },
  {
   "cell_type": "code",
   "execution_count": 135,
   "metadata": {},
   "outputs": [],
   "source": [
    "poly = np.arange(1,6)\n",
    "def regression(poly, model_string):\n",
    "    \n",
    "    if model_string == 'linear':\n",
    "        model = LinearRegression(normalize=True)\n",
    "    elif model_string == 'lasso':\n",
    "        model = LassoCV(normalize=True, cv = 5)\n",
    "    elif model_string == 'ridge':\n",
    "        model = RidgeCV(normalize=True, cv = 5, gcv_mode='auto')\n",
    "    elif model_string == 'elastic':\n",
    "        model = ElasticNetCV(normalize=True, cv = 5)\n",
    "    else:\n",
    "        model = False\n",
    "    \n",
    "    if model != False:\n",
    "        err_set = []\n",
    "        coef_set = []\n",
    "        for i in poly:\n",
    "            start = datetime.now()\n",
    "            mod = Pipeline(steps=[    \n",
    "            ('polynomial',PolynomialFeatures(i)),\n",
    "            ('model',model)\n",
    "            ])\n",
    "            mod.fit(X_train, y_train)\n",
    "            pred = mod.predict(X_test)\n",
    "            error = mse(pred, y_test)\n",
    "            coef = [np.round(i,2) for i in mod.named_steps['model'].coef_[1:boston.shape[1]]] # retrieve coef from model within the pipeline\n",
    "            print(f\"Power: {i} Error: {error:.4f} Time: {datetime.now() - start}\")\n",
    "            print(f\"Coef: {coef}\")\n",
    "            err_set.append(error)\n",
    "            coef_set.append(coef)\n",
    "        return(err_set, coef_set)\n",
    "    else:\n",
    "        print('Please select model from \"linear\", \"lasso\", and \"ridge\".')"
   ]
  },
  {
   "cell_type": "code",
   "execution_count": 136,
   "metadata": {},
   "outputs": [
    {
     "name": "stdout",
     "output_type": "stream",
     "text": [
      "Power: 1 Error: 29.5160 Time: 0:00:00.005113\n",
      "Coef: [-0.08, 0.05, 0.03, 4.54, -20.54, 5.12, -0.0, -1.45, 0.3, -0.01, -0.84, 0.01, -0.42]\n",
      "Power: 2 Error: 12.6007 Time: 0:00:00.015189\n",
      "Coef: [3.52, 0.77, -5.63, 29.98, 244.19, 23.08, 0.58, -9.74, 3.22, -0.16, 5.17, -0.01, 1.76]\n",
      "Power: 3 Error: 3697.3280 Time: 0:00:00.062793\n",
      "Coef: [16.46, 0.52, -30.49, 20.98, 642.27, -330.74, 0.85, -98.15, 31.63, 0.55, -34.04, 4.84, 68.87]\n",
      "Power: 4 Error: 554.3837 Time: 0:00:00.143530\n",
      "Coef: [-1.92, 0.09, 0.43, -0.33, 61.53, 33.22, 0.46, 3.5, 0.63, -0.04, -3.48, 0.23, 5.22]\n",
      "Power: 5 Error: 672.2697 Time: 0:00:00.491445\n",
      "Coef: [-0.4, 0.05, 0.2, -0.18, 18.28, 11.2, 0.12, 0.82, 0.06, -0.02, -1.03, 0.04, 1.35]\n"
     ]
    }
   ],
   "source": [
    "lin_err, lin_coef = regression(poly, 'linear')"
   ]
  },
  {
   "cell_type": "code",
   "execution_count": 137,
   "metadata": {},
   "outputs": [
    {
     "name": "stdout",
     "output_type": "stream",
     "text": [
      "Power: 1 Error: 29.4768 Time: 0:00:00.065956\n",
      "Coef: [-0.07, 0.05, 0.0, 4.52, -19.2, 5.16, -0.0, -1.36, 0.24, -0.01, -0.82, 0.01, -0.41]\n",
      "Power: 2 Error: 15.6276 Time: 0:00:00.591712\n",
      "Coef: [-0.0, -0.0, 0.0, 0.0, -0.0, -0.0, 0.0, -1.94, 0.31, 0.0, 0.0, 0.0, 0.0]\n",
      "Power: 3 Error: 16.5816 Time: 0:00:10.133637\n",
      "Coef: [-0.0, -0.0, 0.0, 0.0, 0.0, 0.0, 0.0, -0.65, 0.08, 0.0, -0.0, 0.0, 0.0]\n",
      "Power: 4 Error: 19.1453 Time: 0:01:12.763025\n",
      "Coef: [-0.0, -0.0, 0.0, 0.0, -0.0, 0.0, 0.0, -0.0, 0.02, 0.0, -0.0, 0.0, -0.0]\n",
      "Power: 5 Error: 20.3384 Time: 0:05:20.510831\n",
      "Coef: [-0.0, 0.0, 0.0, 0.0, -0.0, 0.0, 0.0, -0.0, 0.0, 0.0, -0.0, 0.0, -0.0]\n"
     ]
    }
   ],
   "source": [
    "lasso_err, lasso_coef = regression(poly, 'lasso')"
   ]
  },
  {
   "cell_type": "code",
   "execution_count": 138,
   "metadata": {},
   "outputs": [
    {
     "name": "stdout",
     "output_type": "stream",
     "text": [
      "Power: 1 Error: 29.2189 Time: 0:00:00.045865\n",
      "Coef: [-0.06, 0.03, -0.05, 4.47, -12.78, 5.03, -0.01, -1.02, 0.12, -0.01, -0.78, 0.01, -0.38]\n",
      "Power: 2 Error: 21.4219 Time: 0:00:00.052882\n",
      "Coef: [0.01, -0.0, 0.03, 0.46, -3.16, 1.99, 0.01, -0.2, 0.06, -0.0, -0.18, 0.0, -0.05]\n",
      "Power: 3 Error: 16.2982 Time: 0:00:00.103358\n",
      "Coef: [0.01, -0.01, 0.01, 0.01, 0.39, 1.05, 0.01, -0.17, 0.04, 0.0, -0.08, 0.0, 0.0]\n",
      "Power: 4 Error: 18.9571 Time: 0:00:00.295718\n",
      "Coef: [0.0, -0.0, -0.0, -0.0, -0.18, 0.38, 0.0, -0.03, 0.01, -0.0, -0.04, 0.0, -0.01]\n",
      "Power: 5 Error: 16.8096 Time: 0:00:00.823987\n",
      "Coef: [0.0, -0.0, -0.0, -0.03, -0.11, 0.25, 0.0, -0.02, 0.0, -0.0, -0.02, 0.0, -0.0]\n"
     ]
    }
   ],
   "source": [
    "ridge_err, ridge_coef = regression(poly, 'ridge')"
   ]
  },
  {
   "cell_type": "code",
   "execution_count": 139,
   "metadata": {},
   "outputs": [
    {
     "name": "stdout",
     "output_type": "stream",
     "text": [
      "Power: 1 Error: 29.2561 Time: 0:00:00.111256\n",
      "Coef: [-0.05, 0.03, -0.05, 4.38, -11.2, 4.94, -0.01, -0.91, 0.09, -0.0, -0.76, 0.01, -0.37]\n",
      "Power: 2 Error: 22.6874 Time: 0:00:00.396071\n",
      "Coef: [0.0, 0.0, 0.02, 0.37, -3.52, 1.9, 0.0, -0.14, 0.05, -0.0, -0.21, 0.0, -0.05]\n",
      "Power: 3 Error: 17.5214 Time: 0:00:15.503253\n",
      "Coef: [0.02, -0.01, 0.02, 0.0, 0.86, 0.9, 0.01, -0.17, 0.04, 0.0, -0.05, 0.0, 0.0]\n",
      "Power: 4 Error: 18.6138 Time: 0:01:39.092253\n",
      "Coef: [-0.0, -0.0, -0.0, 0.0, -0.0, 0.5, 0.0, -0.03, 0.01, -0.0, -0.05, 0.0, -0.0]\n",
      "Power: 5 Error: 20.7940 Time: 0:06:05.752075\n",
      "Coef: [0.0, -0.0, 0.0, 0.0, -0.0, 0.27, 0.0, -0.02, 0.0, -0.0, -0.02, 0.0, -0.0]\n"
     ]
    }
   ],
   "source": [
    "en_err, en_coef = regression(poly, 'elastic')"
   ]
  },
  {
   "cell_type": "code",
   "execution_count": 140,
   "metadata": {},
   "outputs": [],
   "source": [
    "dic = {}\n",
    "dic['Linear'] = lin_err\n",
    "dic['Lasso'] = lasso_err\n",
    "dic['Ridge'] = ridge_err\n",
    "dic['ElasticNet'] = en_err"
   ]
  },
  {
   "cell_type": "code",
   "execution_count": 141,
   "metadata": {},
   "outputs": [
    {
     "data": {
      "text/plain": [
       "Text(0, 0.5, 'MSE')"
      ]
     },
     "execution_count": 141,
     "metadata": {},
     "output_type": "execute_result"
    },
    {
     "data": {
      "image/png": "[encoded data removed]",
      "text/plain": [
       "<Figure size 864x576 with 1 Axes>"
      ]
     },
     "metadata": {},
     "output_type": "display_data"
    }
   ],
   "source": [
    "pd.DataFrame(dic).plot(figsize=(12,8))\n",
    "plt.xticks([])\n",
    "plt.title('MSE for each Regression Model')\n",
    "plt.xlabel('Power from 1 to 5')\n",
    "plt.ylabel('MSE')"
   ]
  },
  {
   "cell_type": "markdown",
   "metadata": {},
   "source": [
    "From the plot above, we can easily see that normal Linear Regression model without regularization tends to create the most error due to overfitting to the training dataset.\n",
    "\n",
    "Let's also see how the coefficients are like for each of the regression model."
   ]
  },
  {
   "cell_type": "code",
   "execution_count": 174,
   "metadata": {},
   "outputs": [],
   "source": [
    "col = ['coef1','coef2','coef3','coef4','coef5','coef6','coef7','coef8','coef9','coef10','coef11','coef12','coef13']\n",
    "\n",
    "def coef_df(coef, col = col):\n",
    "    dic = {}\n",
    "    for i,v in enumerate(coef):\n",
    "        dic[i] = v\n",
    "    df = pd.DataFrame(dic, index=col).T\n",
    "    df.index = range(1,6)\n",
    "    \n",
    "    return(df)"
   ]
  },
  {
   "cell_type": "code",
   "execution_count": 178,
   "metadata": {},
   "outputs": [
    {
     "data": {
      "text/html": [
       "<div>\n",
       "<style scoped>\n",
       "    .dataframe tbody tr th:only-of-type {\n",
       "        vertical-align: middle;\n",
       "    }\n",
       "\n",
       "    .dataframe tbody tr th {\n",
       "        vertical-align: top;\n",
       "    }\n",
       "\n",
       "    .dataframe thead th {\n",
       "        text-align: right;\n",
       "    }\n",
       "</style>\n",
       "<table border=\"1\" class=\"dataframe\">\n",
       "  <thead>\n",
       "    <tr style=\"text-align: right;\">\n",
       "      <th></th>\n",
       "      <th>coef1</th>\n",
       "      <th>coef2</th>\n",
       "      <th>coef3</th>\n",
       "      <th>coef4</th>\n",
       "      <th>coef5</th>\n",
       "      <th>coef6</th>\n",
       "      <th>coef7</th>\n",
       "      <th>coef8</th>\n",
       "      <th>coef9</th>\n",
       "      <th>coef10</th>\n",
       "      <th>coef11</th>\n",
       "      <th>coef12</th>\n",
       "      <th>coef13</th>\n",
       "    </tr>\n",
       "  </thead>\n",
       "  <tbody>\n",
       "    <tr>\n",
       "      <th>1</th>\n",
       "      <td>-0.08</td>\n",
       "      <td>0.05</td>\n",
       "      <td>0.03</td>\n",
       "      <td>4.54</td>\n",
       "      <td>-20.54</td>\n",
       "      <td>5.12</td>\n",
       "      <td>-0.00</td>\n",
       "      <td>-1.45</td>\n",
       "      <td>0.30</td>\n",
       "      <td>-0.01</td>\n",
       "      <td>-0.84</td>\n",
       "      <td>0.01</td>\n",
       "      <td>-0.42</td>\n",
       "    </tr>\n",
       "    <tr>\n",
       "      <th>2</th>\n",
       "      <td>3.52</td>\n",
       "      <td>0.77</td>\n",
       "      <td>-5.63</td>\n",
       "      <td>29.98</td>\n",
       "      <td>244.19</td>\n",
       "      <td>23.08</td>\n",
       "      <td>0.58</td>\n",
       "      <td>-9.74</td>\n",
       "      <td>3.22</td>\n",
       "      <td>-0.16</td>\n",
       "      <td>5.17</td>\n",
       "      <td>-0.01</td>\n",
       "      <td>1.76</td>\n",
       "    </tr>\n",
       "    <tr>\n",
       "      <th>3</th>\n",
       "      <td>16.46</td>\n",
       "      <td>0.52</td>\n",
       "      <td>-30.49</td>\n",
       "      <td>20.98</td>\n",
       "      <td>642.27</td>\n",
       "      <td>-330.74</td>\n",
       "      <td>0.85</td>\n",
       "      <td>-98.15</td>\n",
       "      <td>31.63</td>\n",
       "      <td>0.55</td>\n",
       "      <td>-34.04</td>\n",
       "      <td>4.84</td>\n",
       "      <td>68.87</td>\n",
       "    </tr>\n",
       "    <tr>\n",
       "      <th>4</th>\n",
       "      <td>-1.92</td>\n",
       "      <td>0.09</td>\n",
       "      <td>0.43</td>\n",
       "      <td>-0.33</td>\n",
       "      <td>61.53</td>\n",
       "      <td>33.22</td>\n",
       "      <td>0.46</td>\n",
       "      <td>3.50</td>\n",
       "      <td>0.63</td>\n",
       "      <td>-0.04</td>\n",
       "      <td>-3.48</td>\n",
       "      <td>0.23</td>\n",
       "      <td>5.22</td>\n",
       "    </tr>\n",
       "    <tr>\n",
       "      <th>5</th>\n",
       "      <td>-0.40</td>\n",
       "      <td>0.05</td>\n",
       "      <td>0.20</td>\n",
       "      <td>-0.18</td>\n",
       "      <td>18.28</td>\n",
       "      <td>11.20</td>\n",
       "      <td>0.12</td>\n",
       "      <td>0.82</td>\n",
       "      <td>0.06</td>\n",
       "      <td>-0.02</td>\n",
       "      <td>-1.03</td>\n",
       "      <td>0.04</td>\n",
       "      <td>1.35</td>\n",
       "    </tr>\n",
       "  </tbody>\n",
       "</table>\n",
       "</div>"
      ],
      "text/plain": [
       "   coef1  coef2  coef3  coef4   coef5   coef6  coef7  coef8  coef9  coef10  \\\n",
       "1  -0.08   0.05   0.03   4.54  -20.54    5.12  -0.00  -1.45   0.30   -0.01   \n",
       "2   3.52   0.77  -5.63  29.98  244.19   23.08   0.58  -9.74   3.22   -0.16   \n",
       "3  16.46   0.52 -30.49  20.98  642.27 -330.74   0.85 -98.15  31.63    0.55   \n",
       "4  -1.92   0.09   0.43  -0.33   61.53   33.22   0.46   3.50   0.63   -0.04   \n",
       "5  -0.40   0.05   0.20  -0.18   18.28   11.20   0.12   0.82   0.06   -0.02   \n",
       "\n",
       "   coef11  coef12  coef13  \n",
       "1   -0.84    0.01   -0.42  \n",
       "2    5.17   -0.01    1.76  \n",
       "3  -34.04    4.84   68.87  \n",
       "4   -3.48    0.23    5.22  \n",
       "5   -1.03    0.04    1.35  "
      ]
     },
     "execution_count": 178,
     "metadata": {},
     "output_type": "execute_result"
    }
   ],
   "source": [
    "coef_df(lin_coef)"
   ]
  },
  {
   "cell_type": "code",
   "execution_count": 179,
   "metadata": {},
   "outputs": [
    {
     "data": {
      "text/html": [
       "<div>\n",
       "<style scoped>\n",
       "    .dataframe tbody tr th:only-of-type {\n",
       "        vertical-align: middle;\n",
       "    }\n",
       "\n",
       "    .dataframe tbody tr th {\n",
       "        vertical-align: top;\n",
       "    }\n",
       "\n",
       "    .dataframe thead th {\n",
       "        text-align: right;\n",
       "    }\n",
       "</style>\n",
       "<table border=\"1\" class=\"dataframe\">\n",
       "  <thead>\n",
       "    <tr style=\"text-align: right;\">\n",
       "      <th></th>\n",
       "      <th>coef1</th>\n",
       "      <th>coef2</th>\n",
       "      <th>coef3</th>\n",
       "      <th>coef4</th>\n",
       "      <th>coef5</th>\n",
       "      <th>coef6</th>\n",
       "      <th>coef7</th>\n",
       "      <th>coef8</th>\n",
       "      <th>coef9</th>\n",
       "      <th>coef10</th>\n",
       "      <th>coef11</th>\n",
       "      <th>coef12</th>\n",
       "      <th>coef13</th>\n",
       "    </tr>\n",
       "  </thead>\n",
       "  <tbody>\n",
       "    <tr>\n",
       "      <th>1</th>\n",
       "      <td>-0.07</td>\n",
       "      <td>0.05</td>\n",
       "      <td>0.0</td>\n",
       "      <td>4.52</td>\n",
       "      <td>-19.2</td>\n",
       "      <td>5.16</td>\n",
       "      <td>-0.0</td>\n",
       "      <td>-1.36</td>\n",
       "      <td>0.24</td>\n",
       "      <td>-0.01</td>\n",
       "      <td>-0.82</td>\n",
       "      <td>0.01</td>\n",
       "      <td>-0.41</td>\n",
       "    </tr>\n",
       "    <tr>\n",
       "      <th>2</th>\n",
       "      <td>-0.00</td>\n",
       "      <td>-0.00</td>\n",
       "      <td>0.0</td>\n",
       "      <td>0.00</td>\n",
       "      <td>-0.0</td>\n",
       "      <td>-0.00</td>\n",
       "      <td>0.0</td>\n",
       "      <td>-1.94</td>\n",
       "      <td>0.31</td>\n",
       "      <td>0.00</td>\n",
       "      <td>0.00</td>\n",
       "      <td>0.00</td>\n",
       "      <td>0.00</td>\n",
       "    </tr>\n",
       "    <tr>\n",
       "      <th>3</th>\n",
       "      <td>-0.00</td>\n",
       "      <td>-0.00</td>\n",
       "      <td>0.0</td>\n",
       "      <td>0.00</td>\n",
       "      <td>0.0</td>\n",
       "      <td>0.00</td>\n",
       "      <td>0.0</td>\n",
       "      <td>-0.65</td>\n",
       "      <td>0.08</td>\n",
       "      <td>0.00</td>\n",
       "      <td>-0.00</td>\n",
       "      <td>0.00</td>\n",
       "      <td>0.00</td>\n",
       "    </tr>\n",
       "    <tr>\n",
       "      <th>4</th>\n",
       "      <td>-0.00</td>\n",
       "      <td>-0.00</td>\n",
       "      <td>0.0</td>\n",
       "      <td>0.00</td>\n",
       "      <td>-0.0</td>\n",
       "      <td>0.00</td>\n",
       "      <td>0.0</td>\n",
       "      <td>-0.00</td>\n",
       "      <td>0.02</td>\n",
       "      <td>0.00</td>\n",
       "      <td>-0.00</td>\n",
       "      <td>0.00</td>\n",
       "      <td>-0.00</td>\n",
       "    </tr>\n",
       "    <tr>\n",
       "      <th>5</th>\n",
       "      <td>-0.00</td>\n",
       "      <td>0.00</td>\n",
       "      <td>0.0</td>\n",
       "      <td>0.00</td>\n",
       "      <td>-0.0</td>\n",
       "      <td>0.00</td>\n",
       "      <td>0.0</td>\n",
       "      <td>-0.00</td>\n",
       "      <td>0.00</td>\n",
       "      <td>0.00</td>\n",
       "      <td>-0.00</td>\n",
       "      <td>0.00</td>\n",
       "      <td>-0.00</td>\n",
       "    </tr>\n",
       "  </tbody>\n",
       "</table>\n",
       "</div>"
      ],
      "text/plain": [
       "   coef1  coef2  coef3  coef4  coef5  coef6  coef7  coef8  coef9  coef10  \\\n",
       "1  -0.07   0.05    0.0   4.52  -19.2   5.16   -0.0  -1.36   0.24   -0.01   \n",
       "2  -0.00  -0.00    0.0   0.00   -0.0  -0.00    0.0  -1.94   0.31    0.00   \n",
       "3  -0.00  -0.00    0.0   0.00    0.0   0.00    0.0  -0.65   0.08    0.00   \n",
       "4  -0.00  -0.00    0.0   0.00   -0.0   0.00    0.0  -0.00   0.02    0.00   \n",
       "5  -0.00   0.00    0.0   0.00   -0.0   0.00    0.0  -0.00   0.00    0.00   \n",
       "\n",
       "   coef11  coef12  coef13  \n",
       "1   -0.82    0.01   -0.41  \n",
       "2    0.00    0.00    0.00  \n",
       "3   -0.00    0.00    0.00  \n",
       "4   -0.00    0.00   -0.00  \n",
       "5   -0.00    0.00   -0.00  "
      ]
     },
     "execution_count": 179,
     "metadata": {},
     "output_type": "execute_result"
    }
   ],
   "source": [
    "coef_df(lasso_coef)"
   ]
  },
  {
   "cell_type": "code",
   "execution_count": 180,
   "metadata": {},
   "outputs": [
    {
     "data": {
      "text/html": [
       "<div>\n",
       "<style scoped>\n",
       "    .dataframe tbody tr th:only-of-type {\n",
       "        vertical-align: middle;\n",
       "    }\n",
       "\n",
       "    .dataframe tbody tr th {\n",
       "        vertical-align: top;\n",
       "    }\n",
       "\n",
       "    .dataframe thead th {\n",
       "        text-align: right;\n",
       "    }\n",
       "</style>\n",
       "<table border=\"1\" class=\"dataframe\">\n",
       "  <thead>\n",
       "    <tr style=\"text-align: right;\">\n",
       "      <th></th>\n",
       "      <th>coef1</th>\n",
       "      <th>coef2</th>\n",
       "      <th>coef3</th>\n",
       "      <th>coef4</th>\n",
       "      <th>coef5</th>\n",
       "      <th>coef6</th>\n",
       "      <th>coef7</th>\n",
       "      <th>coef8</th>\n",
       "      <th>coef9</th>\n",
       "      <th>coef10</th>\n",
       "      <th>coef11</th>\n",
       "      <th>coef12</th>\n",
       "      <th>coef13</th>\n",
       "    </tr>\n",
       "  </thead>\n",
       "  <tbody>\n",
       "    <tr>\n",
       "      <th>1</th>\n",
       "      <td>-0.06</td>\n",
       "      <td>0.03</td>\n",
       "      <td>-0.05</td>\n",
       "      <td>4.47</td>\n",
       "      <td>-12.78</td>\n",
       "      <td>5.03</td>\n",
       "      <td>-0.01</td>\n",
       "      <td>-1.02</td>\n",
       "      <td>0.12</td>\n",
       "      <td>-0.01</td>\n",
       "      <td>-0.78</td>\n",
       "      <td>0.01</td>\n",
       "      <td>-0.38</td>\n",
       "    </tr>\n",
       "    <tr>\n",
       "      <th>2</th>\n",
       "      <td>0.01</td>\n",
       "      <td>-0.00</td>\n",
       "      <td>0.03</td>\n",
       "      <td>0.46</td>\n",
       "      <td>-3.16</td>\n",
       "      <td>1.99</td>\n",
       "      <td>0.01</td>\n",
       "      <td>-0.20</td>\n",
       "      <td>0.06</td>\n",
       "      <td>-0.00</td>\n",
       "      <td>-0.18</td>\n",
       "      <td>0.00</td>\n",
       "      <td>-0.05</td>\n",
       "    </tr>\n",
       "    <tr>\n",
       "      <th>3</th>\n",
       "      <td>0.01</td>\n",
       "      <td>-0.01</td>\n",
       "      <td>0.01</td>\n",
       "      <td>0.01</td>\n",
       "      <td>0.39</td>\n",
       "      <td>1.05</td>\n",
       "      <td>0.01</td>\n",
       "      <td>-0.17</td>\n",
       "      <td>0.04</td>\n",
       "      <td>0.00</td>\n",
       "      <td>-0.08</td>\n",
       "      <td>0.00</td>\n",
       "      <td>0.00</td>\n",
       "    </tr>\n",
       "    <tr>\n",
       "      <th>4</th>\n",
       "      <td>0.00</td>\n",
       "      <td>-0.00</td>\n",
       "      <td>-0.00</td>\n",
       "      <td>-0.00</td>\n",
       "      <td>-0.18</td>\n",
       "      <td>0.38</td>\n",
       "      <td>0.00</td>\n",
       "      <td>-0.03</td>\n",
       "      <td>0.01</td>\n",
       "      <td>-0.00</td>\n",
       "      <td>-0.04</td>\n",
       "      <td>0.00</td>\n",
       "      <td>-0.01</td>\n",
       "    </tr>\n",
       "    <tr>\n",
       "      <th>5</th>\n",
       "      <td>0.00</td>\n",
       "      <td>-0.00</td>\n",
       "      <td>-0.00</td>\n",
       "      <td>-0.03</td>\n",
       "      <td>-0.11</td>\n",
       "      <td>0.25</td>\n",
       "      <td>0.00</td>\n",
       "      <td>-0.02</td>\n",
       "      <td>0.00</td>\n",
       "      <td>-0.00</td>\n",
       "      <td>-0.02</td>\n",
       "      <td>0.00</td>\n",
       "      <td>-0.00</td>\n",
       "    </tr>\n",
       "  </tbody>\n",
       "</table>\n",
       "</div>"
      ],
      "text/plain": [
       "   coef1  coef2  coef3  coef4  coef5  coef6  coef7  coef8  coef9  coef10  \\\n",
       "1  -0.06   0.03  -0.05   4.47 -12.78   5.03  -0.01  -1.02   0.12   -0.01   \n",
       "2   0.01  -0.00   0.03   0.46  -3.16   1.99   0.01  -0.20   0.06   -0.00   \n",
       "3   0.01  -0.01   0.01   0.01   0.39   1.05   0.01  -0.17   0.04    0.00   \n",
       "4   0.00  -0.00  -0.00  -0.00  -0.18   0.38   0.00  -0.03   0.01   -0.00   \n",
       "5   0.00  -0.00  -0.00  -0.03  -0.11   0.25   0.00  -0.02   0.00   -0.00   \n",
       "\n",
       "   coef11  coef12  coef13  \n",
       "1   -0.78    0.01   -0.38  \n",
       "2   -0.18    0.00   -0.05  \n",
       "3   -0.08    0.00    0.00  \n",
       "4   -0.04    0.00   -0.01  \n",
       "5   -0.02    0.00   -0.00  "
      ]
     },
     "execution_count": 180,
     "metadata": {},
     "output_type": "execute_result"
    }
   ],
   "source": [
    "coef_df(ridge_coef)"
   ]
  },
  {
   "cell_type": "code",
   "execution_count": 181,
   "metadata": {},
   "outputs": [
    {
     "data": {
      "text/html": [
       "<div>\n",
       "<style scoped>\n",
       "    .dataframe tbody tr th:only-of-type {\n",
       "        vertical-align: middle;\n",
       "    }\n",
       "\n",
       "    .dataframe tbody tr th {\n",
       "        vertical-align: top;\n",
       "    }\n",
       "\n",
       "    .dataframe thead th {\n",
       "        text-align: right;\n",
       "    }\n",
       "</style>\n",
       "<table border=\"1\" class=\"dataframe\">\n",
       "  <thead>\n",
       "    <tr style=\"text-align: right;\">\n",
       "      <th></th>\n",
       "      <th>coef1</th>\n",
       "      <th>coef2</th>\n",
       "      <th>coef3</th>\n",
       "      <th>coef4</th>\n",
       "      <th>coef5</th>\n",
       "      <th>coef6</th>\n",
       "      <th>coef7</th>\n",
       "      <th>coef8</th>\n",
       "      <th>coef9</th>\n",
       "      <th>coef10</th>\n",
       "      <th>coef11</th>\n",
       "      <th>coef12</th>\n",
       "      <th>coef13</th>\n",
       "    </tr>\n",
       "  </thead>\n",
       "  <tbody>\n",
       "    <tr>\n",
       "      <th>1</th>\n",
       "      <td>-0.05</td>\n",
       "      <td>0.03</td>\n",
       "      <td>-0.05</td>\n",
       "      <td>4.38</td>\n",
       "      <td>-11.20</td>\n",
       "      <td>4.94</td>\n",
       "      <td>-0.01</td>\n",
       "      <td>-0.91</td>\n",
       "      <td>0.09</td>\n",
       "      <td>-0.0</td>\n",
       "      <td>-0.76</td>\n",
       "      <td>0.01</td>\n",
       "      <td>-0.37</td>\n",
       "    </tr>\n",
       "    <tr>\n",
       "      <th>2</th>\n",
       "      <td>0.00</td>\n",
       "      <td>0.00</td>\n",
       "      <td>0.02</td>\n",
       "      <td>0.37</td>\n",
       "      <td>-3.52</td>\n",
       "      <td>1.90</td>\n",
       "      <td>0.00</td>\n",
       "      <td>-0.14</td>\n",
       "      <td>0.05</td>\n",
       "      <td>-0.0</td>\n",
       "      <td>-0.21</td>\n",
       "      <td>0.00</td>\n",
       "      <td>-0.05</td>\n",
       "    </tr>\n",
       "    <tr>\n",
       "      <th>3</th>\n",
       "      <td>0.02</td>\n",
       "      <td>-0.01</td>\n",
       "      <td>0.02</td>\n",
       "      <td>0.00</td>\n",
       "      <td>0.86</td>\n",
       "      <td>0.90</td>\n",
       "      <td>0.01</td>\n",
       "      <td>-0.17</td>\n",
       "      <td>0.04</td>\n",
       "      <td>0.0</td>\n",
       "      <td>-0.05</td>\n",
       "      <td>0.00</td>\n",
       "      <td>0.00</td>\n",
       "    </tr>\n",
       "    <tr>\n",
       "      <th>4</th>\n",
       "      <td>-0.00</td>\n",
       "      <td>-0.00</td>\n",
       "      <td>-0.00</td>\n",
       "      <td>0.00</td>\n",
       "      <td>-0.00</td>\n",
       "      <td>0.50</td>\n",
       "      <td>0.00</td>\n",
       "      <td>-0.03</td>\n",
       "      <td>0.01</td>\n",
       "      <td>-0.0</td>\n",
       "      <td>-0.05</td>\n",
       "      <td>0.00</td>\n",
       "      <td>-0.00</td>\n",
       "    </tr>\n",
       "    <tr>\n",
       "      <th>5</th>\n",
       "      <td>0.00</td>\n",
       "      <td>-0.00</td>\n",
       "      <td>0.00</td>\n",
       "      <td>0.00</td>\n",
       "      <td>-0.00</td>\n",
       "      <td>0.27</td>\n",
       "      <td>0.00</td>\n",
       "      <td>-0.02</td>\n",
       "      <td>0.00</td>\n",
       "      <td>-0.0</td>\n",
       "      <td>-0.02</td>\n",
       "      <td>0.00</td>\n",
       "      <td>-0.00</td>\n",
       "    </tr>\n",
       "  </tbody>\n",
       "</table>\n",
       "</div>"
      ],
      "text/plain": [
       "   coef1  coef2  coef3  coef4  coef5  coef6  coef7  coef8  coef9  coef10  \\\n",
       "1  -0.05   0.03  -0.05   4.38 -11.20   4.94  -0.01  -0.91   0.09    -0.0   \n",
       "2   0.00   0.00   0.02   0.37  -3.52   1.90   0.00  -0.14   0.05    -0.0   \n",
       "3   0.02  -0.01   0.02   0.00   0.86   0.90   0.01  -0.17   0.04     0.0   \n",
       "4  -0.00  -0.00  -0.00   0.00  -0.00   0.50   0.00  -0.03   0.01    -0.0   \n",
       "5   0.00  -0.00   0.00   0.00  -0.00   0.27   0.00  -0.02   0.00    -0.0   \n",
       "\n",
       "   coef11  coef12  coef13  \n",
       "1   -0.76    0.01   -0.37  \n",
       "2   -0.21    0.00   -0.05  \n",
       "3   -0.05    0.00    0.00  \n",
       "4   -0.05    0.00   -0.00  \n",
       "5   -0.02    0.00   -0.00  "
      ]
     },
     "execution_count": 181,
     "metadata": {},
     "output_type": "execute_result"
    }
   ],
   "source": [
    "coef_df(en_coef, col)"
   ]
  },
  {
   "cell_type": "markdown",
   "metadata": {},
   "source": [
    "By comparison, we can see that at the polynomial of 3, most of the coefficients derived from lasso regression shrinks to zero and only two coefficients are still considered important, whereas in ridge regression, there are still small coefficients for most of the variables. Elastic Net Regression tends to be the middle the Lasso and Ridge regression.\n",
    "\n",
    "We can also see why normal Linear Regression is not a good idea, as the coefficients significantly fluctuates, which demonstrates that the model has high variance due to overfitting to training dataset."
   ]
  },
  {
   "cell_type": "markdown",
   "metadata": {},
   "source": [
    "### End Note"
   ]
  },
  {
   "cell_type": "markdown",
   "metadata": {},
   "source": [
    "Fro the [Sklearn algorithm cheatsheet](https://scikit-learn.org/stable/tutorial/machine_learning_map/index.html), it is recommended to use **Lasso and ElasticNet** if only few features should be chosen given its nature of fast-shrinking to zero. If not, Ridge Regression is recommended. \n",
    "\n",
    "Generally speaking, **if you have lots of variables and have no idea about respective importance, or suspect that not all of them are important**, **you should give Lasso and ElasticNet a first shot**.\n",
    "\n",
    "If the sample size is huge, the cheatsheet recommends taking a look at the **Stochastic Gradient Descent Regressor(SGDRegressor)**, which can also take in the idea of regularization via the parameter **`penalty`** and **`l1_ratio`**. "
   ]
  },
  {
   "cell_type": "markdown",
   "metadata": {},
   "source": [
    "The examples above explains the obvious advantage of Lasso Regression, as it can easily generalize a model with numerous features to a model containing few important features. This feature selection function is beneficial when you have a very complex dataset that contains hundreds or even thousands of features. If you choose Ridge Regression Model, chances are you will receive thousands of coefficients close to zero, but non of them will be zero. Therefore, the Ridge Regression Model will have a relatively worse model interpretability compared to Lasso Regression."
   ]
  },
  {
   "cell_type": "markdown",
   "metadata": {},
   "source": [
    "---"
   ]
  },
  {
   "cell_type": "markdown",
   "metadata": {},
   "source": [
    "## Reference :"
   ]
  },
  {
   "cell_type": "markdown",
   "metadata": {},
   "source": [
    "Credits to the posts below:"
   ]
  },
  {
   "cell_type": "markdown",
   "metadata": {},
   "source": [
    "**Medium**:\n",
    "\n",
    "[Linear Regression on Boston Housing Dataset](https://towardsdatascience.com/linear-regression-on-boston-housing-dataset-f409b7e4a155)\n",
    "\n",
    "[Object-oriented programming for data scientists: Build your ML estimator](https://towardsdatascience.com/object-oriented-programming-for-data-scientists-build-your-ml-estimator-7da416751f64)\n",
    "\n",
    "[Multivariate Linear Regression from Scratch in Python](https://medium.com/@pytholabs/multivariate-linear-regression-from-scratch-in-python-5c4f219be6a)\n",
    "\n",
    "[Regularization in Machine Learning](https://towardsdatascience.com/regularization-in-machine-learning-76441ddcf99a)\n",
    "\n",
    "[What’s the difference between Linear Regression, Lasso, Ridge, and ElasticNet in sklearn?](https://towardsdatascience.com/whats-the-difference-between-linear-regression-lasso-ridge-and-elasticnet-8f997c60cf29)\n",
    "\n",
    "[Feature Selection Using Regularisation](https://towardsdatascience.com/feature-selection-using-regularisation-a3678b71e499)\n",
    "\n",
    "[Bias, Variance, and Regularization in Linear Regression: Lasso, Ridge, and Elastic Net — Differences and uses](https://towardsdatascience.com/bias-variance-and-regularization-in-linear-regression-lasso-ridge-and-elastic-net-8bf81991d0c5)\n",
    "\n",
    "**Others**:\n",
    "\n",
    "[Derivation of the closed-form solution to minimizing the least-squares cost function](https://stats.stackexchange.com/questions/336860/derivation-of-the-closed-form-solution-to-minimizing-the-least-squares-cost-func)\n",
    "\n",
    "[A Complete Tutorial on Ridge and Lasso Regression in Python](https://www.analyticsvidhya.com/blog/2016/01/complete-tutorial-ridge-lasso-regression-python/)"
   ]
  }
 ],
 "metadata": {
  "kernelspec": {
   "display_name": "Python 3",
   "language": "python",
   "name": "python3"
  },
  "language_info": {
   "codemirror_mode": {
    "name": "ipython",
    "version": 3
   },
   "file_extension": ".py",
   "mimetype": "text/x-python",
   "name": "python",
   "nbconvert_exporter": "python",
   "pygments_lexer": "ipython3",
   "version": "3.7.7"
  }
 },
 "nbformat": 4,
 "nbformat_minor": 4
}
