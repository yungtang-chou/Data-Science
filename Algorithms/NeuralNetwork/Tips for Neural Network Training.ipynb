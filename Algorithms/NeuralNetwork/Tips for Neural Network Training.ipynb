{
 "cells": [
  {
   "cell_type": "markdown",
   "metadata": {},
   "source": [
    "# Neural Network: Tips for Training Neural Network"
   ]
  },
  {
   "cell_type": "markdown",
   "metadata": {},
   "source": [
    "In this notebook, we are going to discuss some tips for training robust neural network. This notebook will not focus on code but rather the intuition behind these tips. All the methods below can be easily conducted through Keras API. We will try to cover the implementation in simple examples. For detailed instruction please take a look at the well-written Keras documentation.\n",
    "\n",
    "---\n",
    "\n",
    "## Notebook Setting"
   ]
  },
  {
   "cell_type": "code",
   "execution_count": 29,
   "metadata": {},
   "outputs": [],
   "source": [
    "import numpy as np\n",
    "import pandas as pd\n",
    "import matplotlib.pyplot as plt\n",
    "from keras.models import Sequential\n",
    "from keras.layers.core import Dense, Dropout, Activation\n",
    "from keras.layers import Conv2D, MaxPool2D, Flatten, LeakyReLU, MaxoutDense\n",
    "from keras.optimizers import SGD, Adam, Adagrad, RMSprop, Nadam\n",
    "from keras.utils import np_utils\n",
    "from keras.datasets import fashion_mnist\n",
    "from keras.callbacks import EarlyStopping"
   ]
  },
  {
   "cell_type": "markdown",
   "metadata": {},
   "source": [
    "## Quick Example with MNIST"
   ]
  },
  {
   "cell_type": "code",
   "execution_count": 27,
   "metadata": {},
   "outputs": [],
   "source": [
    "def load_data():\n",
    "    (X_train, y_train), (X_test, y_test) = fashion_mnist.load_data()\n",
    "    X_train = X_train.reshape(-1, 28*28)\n",
    "    X_train = X_train.astype('float')\n",
    "    X_test = X_test.reshape(-1, 28*28)\n",
    "    X_test = X_test.astype('float')\n",
    "    \n",
    "    # Convert class vectors to binary class matrices\n",
    "    y_train = np_utils.to_categorical(y_train, 10)\n",
    "    y_test = np_utils.to_categorical(y_test, 10)\n",
    "    X_train = X_train\n",
    "    X_test = X_test\n",
    "    \n",
    "    # X_test = np.random.normal(X_test)\n",
    "    X_train = X_train / 255 # normalize the pixel\n",
    "    X_test = X_test / 255 # normalize the pixel\n",
    "    return((X_train, y_train),(X_test, y_test))"
   ]
  },
  {
   "cell_type": "code",
   "execution_count": 28,
   "metadata": {},
   "outputs": [
    {
     "name": "stdout",
     "output_type": "stream",
     "text": [
      "Train on 42000 samples, validate on 18000 samples\n",
      "Epoch 1/20\n",
      "42000/42000 [==============================] - 4s 89us/step - loss: 2.2957 - accuracy: 0.1858 - val_loss: 2.2568 - val_accuracy: 0.1724\n",
      "Epoch 2/20\n",
      "42000/42000 [==============================] - 3s 77us/step - loss: 2.2319 - accuracy: 0.3602 - val_loss: 2.2090 - val_accuracy: 0.3564\n",
      "Epoch 3/20\n",
      "42000/42000 [==============================] - 4s 88us/step - loss: 2.1789 - accuracy: 0.4617 - val_loss: 2.1501 - val_accuracy: 0.3785\n",
      "Epoch 4/20\n",
      "42000/42000 [==============================] - 3s 77us/step - loss: 2.1171 - accuracy: 0.5137 - val_loss: 2.0862 - val_accuracy: 0.4045\n",
      "Epoch 5/20\n",
      "42000/42000 [==============================] - 4s 86us/step - loss: 2.0426 - accuracy: 0.5424 - val_loss: 2.0008 - val_accuracy: 0.4836\n",
      "Epoch 6/20\n",
      "42000/42000 [==============================] - 4s 90us/step - loss: 1.9544 - accuracy: 0.5482 - val_loss: 1.9052 - val_accuracy: 0.4924\n",
      "Epoch 7/20\n",
      "42000/42000 [==============================] - 4s 93us/step - loss: 1.8543 - accuracy: 0.5624 - val_loss: 1.8039 - val_accuracy: 0.5084\n",
      "Epoch 8/20\n",
      "42000/42000 [==============================] - 3s 80us/step - loss: 1.7498 - accuracy: 0.5658 - val_loss: 1.6975 - val_accuracy: 0.5298\n",
      "Epoch 9/20\n",
      "42000/42000 [==============================] - 4s 90us/step - loss: 1.6485 - accuracy: 0.5749 - val_loss: 1.5994 - val_accuracy: 0.5522\n",
      "Epoch 10/20\n",
      "42000/42000 [==============================] - 4s 88us/step - loss: 1.5563 - accuracy: 0.5830 - val_loss: 1.5139 - val_accuracy: 0.5961\n",
      "Epoch 11/20\n",
      "42000/42000 [==============================] - 3s 75us/step - loss: 1.4751 - accuracy: 0.6019 - val_loss: 1.4365 - val_accuracy: 0.5949\n",
      "Epoch 12/20\n",
      "42000/42000 [==============================] - 4s 88us/step - loss: 1.4041 - accuracy: 0.6108 - val_loss: 1.3689 - val_accuracy: 0.5996\n",
      "Epoch 13/20\n",
      "42000/42000 [==============================] - 3s 79us/step - loss: 1.3420 - accuracy: 0.6244 - val_loss: 1.3131 - val_accuracy: 0.6352\n",
      "Epoch 14/20\n",
      "42000/42000 [==============================] - 4s 86us/step - loss: 1.2877 - accuracy: 0.6359 - val_loss: 1.2600 - val_accuracy: 0.6387\n",
      "Epoch 15/20\n",
      "42000/42000 [==============================] - 3s 78us/step - loss: 1.2399 - accuracy: 0.6463 - val_loss: 1.2161 - val_accuracy: 0.6179\n",
      "Epoch 16/20\n",
      "42000/42000 [==============================] - 4s 93us/step - loss: 1.1975 - accuracy: 0.6539 - val_loss: 1.1751 - val_accuracy: 0.6318\n",
      "Epoch 17/20\n",
      "42000/42000 [==============================] - 4s 90us/step - loss: 1.1594 - accuracy: 0.6597 - val_loss: 1.1382 - val_accuracy: 0.6737\n",
      "Epoch 18/20\n",
      "42000/42000 [==============================] - 4s 104us/step - loss: 1.1249 - accuracy: 0.6692 - val_loss: 1.1056 - val_accuracy: 0.6574\n",
      "Epoch 19/20\n",
      "42000/42000 [==============================] - 6s 153us/step - loss: 1.0940 - accuracy: 0.6746 - val_loss: 1.0764 - val_accuracy: 0.6651\n",
      "Epoch 20/20\n",
      "42000/42000 [==============================] - 3s 76us/step - loss: 1.0656 - accuracy: 0.6799 - val_loss: 1.0494 - val_accuracy: 0.6742\n",
      "60000/60000 [==============================] - 4s 70us/step\n",
      "10000/10000 [==============================] - 1s 73us/step\n",
      "\n",
      "\n",
      "----------Model Result----------\n",
      "Train Acc: 0.6715166568756104\n",
      "Test Acc: 0.6618000268936157\n"
     ]
    }
   ],
   "source": [
    "if __name__ == '__main__':\n",
    "    # load training data and testing data\n",
    "    (x_train, y_train), (x_test, y_test) = load_data()\n",
    "    # define network structure\n",
    "    model = Sequential()\n",
    "\n",
    "    model.add(Dense(input_dim=28 * 28, units=300, activation='sigmoid'))\n",
    "    model.add(Dense(units=300, activation='sigmoid'))\n",
    "    model.add(Dense(units=10, activation='softmax'))\n",
    "\n",
    "    # set configurations\n",
    "    model.compile(loss='categorical_crossentropy',\n",
    "                  optimizer=SGD(), metrics=['accuracy'])\n",
    "\n",
    "    # train model\n",
    "    history = model.fit(x_train, y_train, batch_size=256, epochs=20, validation_split=0.3)\n",
    "\n",
    "    # evaluate the model and output the accuracy\n",
    "    result_train = model.evaluate(x_train, y_train)\n",
    "    result_test = model.evaluate(x_test, y_test)\n",
    "    print('\\n')\n",
    "    print('----------Model Result----------')\n",
    "    print('Train Acc:', result_train[1])\n",
    "    print('Test Acc:', result_test[1])"
   ]
  },
  {
   "cell_type": "markdown",
   "metadata": {},
   "source": [
    "From the result above, we can see that deep learning is really powerful! You don't need to anything and you can have a quite robust results(compared to random guesses). However, in more complicated dataset we can encounter some difficult problems, and our deep learning model may not perform well as we intend. Below we will discuss some common tips to boost the result of the Neural Network."
   ]
  },
  {
   "cell_type": "markdown",
   "metadata": {},
   "source": [
    "---"
   ]
  },
  {
   "cell_type": "markdown",
   "metadata": {},
   "source": [
    "# Tips for Training Neural Network"
   ]
  },
  {
   "cell_type": "markdown",
   "metadata": {},
   "source": [
    "In classic machine learning algorithms, **overfitting is a common problem** since the model overfits training data and results in awful performance on testing data. This is because **the model 100% fits the training data**. Therefore, it cannot adjust to noise or bias between training and testing dataset. "
   ]
  },
  {
   "cell_type": "markdown",
   "metadata": {},
   "source": [
    "One unique property in Neural Network is that **the training data will not 100% fit the neural network itself**. The weights and bias are updated through backpropagation, but it is not gauranteed (and is often not the case) that the neural network can 100% fit the network structure. Yes, the accuracy will increase when the backpropagation algorithm is conducted for several epochs. However, you can hardly reach a 100% training accuracy given the noisy data.\n",
    "\n",
    "\n",
    "Therefore, when training neural network, there are two sub-processing in evaluating the goodness of the model structure.\n",
    "\n",
    "1. Evaluate the result on **training** data.\n",
    "2. Evaluate the result on **testing** data.\n",
    "\n",
    "**It's possible to have good training result but bad testing result**, which is **overfitting**. In the meantime, it is also likely that the neural network works quite well on testing data but not on training data. Worse yet, the model can perform bad on both training and testing data. For different scenario, different approaches are introduced, and in the following section we will discuss some tips for training neural network as well as how to deal with such problems."
   ]
  },
  {
   "cell_type": "markdown",
   "metadata": {},
   "source": [
    "---"
   ]
  },
  {
   "cell_type": "markdown",
   "metadata": {},
   "source": [
    "# Improving Your Result on Training Data"
   ]
  },
  {
   "cell_type": "markdown",
   "metadata": {},
   "source": [
    "## Choose Another Activation Function"
   ]
  },
  {
   "cell_type": "markdown",
   "metadata": {},
   "source": [
    "<img src=\"pic/activationfunc.png\" width=600>\n",
    "\n",
    "Activation Function is the tranformation function at each node that transform inputs to outputs. The above is a subset of popular activation function out there. As discussed at the beginning of the notebook, sigmoid function is the first known activation function used in Neural Network structrue. The sigmoid function has recently fallen out of favor and it is rarely used nowadays, since it comes with major pitfalls that can limit or even damage the performance of the neural network.\n",
    "\n",
    "1. **Sigmoids saturate and kill gradients**. Sigmoid function will saturate at either 0 or 1, where the gradient at these two regions is almost zero. Therefore, during backpropagation the updated gradiant (~0) can kill the gradients and thus cannot update the weights connected to that neurons. Worse yet, it can also cause problems if the weight initialization is not done properly (the neurons can be killed at the first epoch.) This problem is also known as the **Vanishing Gradient Problem**. \n",
    "\n",
    "\n",
    "2. **Sigmoid outputs are not zero-centered**. The output of the sigmoid function is always positive, which is a undesirable property given the fact that the update through backpropagation will be dependent on the gradient of whole function. \n",
    "\n",
    "\n",
    "**tanh** activation function is used to resolve the non-zero-centered nature for the **sigmoid** activation function, so the **tanh** non-linearity activation function is preferred over **sigmoid**. However, it also comes with the problem of **Vanishing Gradient Problem**."
   ]
  },
  {
   "cell_type": "markdown",
   "metadata": {},
   "source": [
    "### The Vanishing Gradient Problem"
   ]
  },
  {
   "cell_type": "markdown",
   "metadata": {},
   "source": [
    "<img src=\"pic/vgp.png\" width=600>"
   ]
  },
  {
   "cell_type": "markdown",
   "metadata": {},
   "source": [
    "The best way to deal with Vanishing Gradient Problem is to change your activation function from **Sigmoid** to **Rectified Linear Unit (ReLU)**.\n",
    "\n",
    "Before we dive into the ReLU activation function, let's first discuss why Vanishing Gradient Problem is a difficult but important problem. The problem of vanishing gradients arises due to the nature of the backpropagation optimization. Gradients tend to **vanish** as we keep on moving backward, as the gradient is getting smaller and smaller. Thus, the neurons in earlier layers will learn very slowly compared to neurons in later layers. In some cases, the sets of weights in the neural network might even not be updated as thus remain almost random.\n",
    "\n",
    "Thus, **Vanishing Gradient Problem** results in a decrease in the prediction accuracy of the model and take a long time to train a model."
   ]
  },
  {
   "cell_type": "markdown",
   "metadata": {},
   "source": [
    "### ReLU"
   ]
  },
  {
   "cell_type": "markdown",
   "metadata": {},
   "source": [
    "The **ReLU (Rectified Linear Unit)** is recently proposed and is a highly regarded activation function that solves the **Vanishing Gradient Problem**. It computes the function $f(𝑥)=max(0,𝑥)$. There are several pros and cons to using the ReLUs:\n",
    "\n",
    "**Pros**\n",
    "\n",
    "1. **ReLU accelarate convergence**. It is found empirically to accelerate the time needed for convergence compared to the **sigmoid** and **tanh** activation function. This quickness can be attribute to the linearity as well as the non-saturating nature. \n",
    "\n",
    "2. **Computationally efficient**. Compared to **Sigmoid** and **tanh** that takes on the calculation of **exp(x)**, the computation of Max is more efficient and thus can get the solution faster.\n",
    "\n",
    "**Cons**\n",
    "\n",
    "1. **Dying Neuron Problem**. If at any moment the gradient of a certain neuron is zero, that neuron will be killed from then on and never activate again. That is, the ReLU units can irreversibly die during training since they can get knocked off the data manifold. For example, you may find that as much as 40% of your network can be \"dead\" (i.e. neurons that never activate across the entire training dataset) if the learning rate is set too high. With a proper setting of the learning rate this is less frequently an issue.\n",
    "\n",
    "\n",
    "<img src=\"pic/leaky.png\">\n",
    "\n",
    "\n",
    "Due to this undesirable nature, **Leaky ReLU** is proposed to fix the **dying neuron** problem. Instead of the function being zero when x < 0, a leaky ReLU will instead have a small negative slope. Therefore, the **dying neuron problem** can be fixed. There is another variant called **Parametric ReLU**, which set the slope to another variable that can be learned by the neural network through back propagation."
   ]
  },
  {
   "cell_type": "markdown",
   "metadata": {},
   "source": [
    "### Maxout"
   ]
  },
  {
   "cell_type": "markdown",
   "metadata": {},
   "source": [
    "Another activation, **Maxout, is proposed to be flexible, learnable activation function**. The Maxout activation is, in fact, a generalization of the ReLU and the leaky ReLU functions. The Maxout activation function is formulated below:\n",
    "\n",
    "$$max(w_1^T + b_1, w_2^T + b_2)$$\n",
    "\n",
    "**Pros**\n",
    "\n",
    "1. It is a piecewise linear function that returns the maximum of the inputs. Thus, it can take any piecewise linear convex function and doesn't necessarily have to be the format above. For example, you can compare three or even four in one group at a time.\n",
    "\n",
    "<img src=\"pic/max2.png\" width=600>\n",
    "\n",
    "2. Both ReLU and leaky ReLU are special cases of the Maxout activation function. Thus, it enjoys all the benefits of a ReLU unit (linearity, no saturation) and does not have its drawbacks (dying neuron problem).\n",
    "\n",
    "**Cons**\n",
    "\n",
    "1. Using the Maxout activation function requires more parameters to be updated for each neuron, which can take more time to train the entire neural network.\n"
   ]
  },
  {
   "cell_type": "markdown",
   "metadata": {},
   "source": [
    "### Kernal Activation Functions\n",
    "\n",
    "Kernel Activation Function (Kafnets) is a newly proposed activation functions in the paper **[Kafnets: kernel-based non-parametric activation functions for neural networks](https://arxiv.org/abs/1707.04035)**. According to this paper,  neural networks are generally built by interleaving (adaptable) linear layers with (fixed) nonlinear activation functions. In this paper, the author introduces a novel family of flexible activation functions that are based on an inexpensive kernel expansion at every neuron. Now **kafnets** can be implemented through Keras, Tensorflow, and PyTorch. For implementation please see the github repository **[Kernel Activation Functions](https://github.com/ispamm/kernel-activation-functions)**"
   ]
  },
  {
   "cell_type": "markdown",
   "metadata": {},
   "source": [
    "### Best Practice\n",
    "\n",
    "Below is the some guidelines for choosing the activation function.\n",
    "\n",
    "1. Use **ReLU** in hidden layer activation, but be careful with the learning rate and monitor the fraction of dead units. If ReLU is giving problems. Try **Leaky ReLU or Maxout**.\n",
    "\n",
    "2. Normalize and standardize the input data in advance. It can help achieve higher validation accuracy and decrease the training time.\n",
    "\n",
    "3. Don't use **sigmoid** and **tanh** activation function as the **Vanishing Gradient Problem** can kill you entire network structure."
   ]
  },
  {
   "cell_type": "markdown",
   "metadata": {},
   "source": [
    "---"
   ]
  },
  {
   "cell_type": "markdown",
   "metadata": {},
   "source": [
    "## Optimizers (Adaptive Gradient Descent Algorithms)"
   ]
  },
  {
   "cell_type": "markdown",
   "metadata": {},
   "source": [
    "Traditional gradient descent sets a constant learning rate for the entire neural network. By setting the batch size, in fact the model is using mini-batch / stochastic gradient descent to update each weight. Learning rate is a hyperparameter that controls how much to change the model in response to the estimated error each time the model weights are updated. A value too small may result in a long training process that could get stuck, whereas a value too large may result in learning a sub-optimal set of weights too fast or an unstable training process.\n",
    "\n",
    "In Keras, learning rate optimizer is configured through the following API, the **optimizer** hyperparameter in particular:\n",
    "\n",
    "```python\n",
    "    model.compile(loss='categorical_crossentropy',\n",
    "                  optimizer=Adam(), metrics=['accuracy'])\n",
    "```\n",
    "\n",
    "There are lots of different learning rate that in fact changes in response to the learning process. For example, the optimizer above, Adam(), is a well-regarded optimizer that is widely used today.\n",
    "\n",
    "---\n",
    "\n",
    "### Stochastic Gradient Descent with Momentum\n",
    "\n",
    "The most basic optimizer is **SGD()**, which takes in the parameter **learning rate** and **momentum**. Momentum is a technique that takes the previous movement into account. A typical choice of momentum is between 0.5 to 0.9.\n",
    "\n",
    "Without momentum, the parameter is updated as follows:\n",
    "\n",
    "\\begin{align}\n",
    "\\theta^1 = \\theta^0 - \\eta \\nabla L(\\theta^0) \\\\\n",
    "\\theta^2 = \\theta^1 - \\eta \\nabla L(\\theta^1) \\\\\n",
    "... \\\\\n",
    "\\nabla L(\\theta^t) = 0 \\\\\n",
    "\\end{align}\n",
    "\n",
    "\n",
    "With momentum, the parameter is updated as follows:\n",
    "\n",
    "start at point $\\theta^0$, movement $v^0 = 0$, then\n",
    "\n",
    "\\begin{align}\n",
    "v^1 = \\lambda v^0 - \\eta \\nabla L(\\theta^0) \\\\\n",
    "\\theta^1 = \\theta^0 + v^1 \\\\\n",
    "v^2 = \\lambda v^1 - \\eta \\nabla L(\\theta^1) \\\\\n",
    "\\theta^2 = \\theta^1 + v^2 \\\\\n",
    "... \\\\\n",
    "\\end{align}\n",
    "\n",
    "That is, movement is not only based on gradient but also the previous movement. With momentum, it almost always work better than normal SGD without momentum.\n",
    "\n",
    "```python\n",
    "from keras.optimizers import SGD\n",
    "model.compile(..., optimizer=SGD(lr=0.01, momentum=0.9, nesterov=True))\n",
    "```\n",
    "\n",
    "**Nesterov Momentum** is a slightly different version of momentum update that utilize the **look ahead gradient** instead of current gradient. It is a different version of the momentum method which has stronger theoretical converge guarantees for convex functions. You can call it by setting `nesterov=True`. \n",
    "\n",
    "<img src=\"pic/nesterov.jpeg\">\n",
    "\n",
    "The image above illustrates the difference between normal momentum and nesterov momentum. In practice, it works slightly better than standard momentum.\n",
    "\n",
    "---\n",
    "\n",
    "### Adagrad\n",
    "\n",
    "Adagrad is the abbreviation of **Adaptive Gradient Descent**. It's a gradient-based optimization method that adapts the learning rate to the parameters. It gives smaller updates (low learning rates) for parameters associated with frequently occurring features, and larger updates (high learning rates) for parameters associated with infrequent features. In short, for Adagrad every parameter has its own learning rate.\n",
    "\n",
    "For normal stochastic gradient descent, the parameter is updated as below:\n",
    "\n",
    "\\begin{align}\n",
    "\\theta^{t+1} = \\theta^{t} - \\eta \\nabla L(\\theta^0) \\\\\n",
    "\\end{align}\n",
    "\n",
    "In adagrad, the parameter is updated as below.\n",
    "\n",
    "\\begin{align}\n",
    "\\theta^{t+1} = \\theta^{t} - \\frac{\\eta}{\\sqrt{\\sum_{i=0}^t (g^i)^2}} \\nabla L(\\theta^0) \\\\\n",
    "\\end{align}\n",
    "\n",
    "One of Adagrad's main benefits is that it eliminates the need to manually tune the learning rate. In most implementations, we only need to set a default value of 0.01 or so.\n",
    "\n",
    "One of its weakness lies in the denominator term. Since every added term is positive, the acucumulated sum keeps growing. Thus, this can cause the learning rate to shrink to an extremely small value, which at some point the parameter is no longer able to upadte.\n",
    "\n",
    "---\n",
    "\n",
    "### RMSProp\n",
    "\n",
    "RMSProp (Root Mean Square propagation) is a method proposed by Geoff Hinton in this [lecture](http://www.cs.toronto.edu/~tijmen/csc321/slides/lecture_slides_lec6.pdf). The central idea of RMSprop is keep the moving average of the squared gradients for each weight. It introduces a new parameter $\\alpha$. If $\\alpha$ is small, you tend to believe the new gradient more than the previous ones, and vice versa. The mathematical formulation for RMSProp can be shown below.\n",
    "\n",
    "\\begin{align}\n",
    "\\theta^1 = \\theta^0 - \\frac{\\eta}{\\sigma^0} g^0\\\\\n",
    "\\sigma^0 = g^0 \\\\\n",
    "\\theta^2 = \\theta^1 - \\frac{\\eta}{\\sigma^1} g^1\\\\\n",
    "\\sigma^1 = \\sqrt{\\alpha (\\sigma^0)^2 + (1 - \\alpha) (g^1)^2} \\\\\n",
    "... \\\\\n",
    "\\theta^{t+1} = \\theta^t - \\frac{\\eta}{\\sigma^t} g^t\\\\\n",
    "\\sigma^t = \\sqrt{\\alpha (\\sigma^{t-1})^2 + (1 - \\alpha) (g^t)^2} \\\\\n",
    "\\end{align}\n",
    "\n",
    "\n",
    "In Hinton's lecture, he suggests that $\\alpha$ to be set at 0.9, meaning that previous cumulative gradients are placing more emphasis. This value should be tuned manually in order to get a better result.\n",
    "\n",
    "---\n",
    "\n",
    "### Adam\n",
    "\n",
    "Adam (Adaptive Moment Estimation) is another method that computes adaptive learning rates for the parameeter. In essence, it's the combination of momentum and RMSprop, while introducting a new bia-correction term. It stores an exponentially decaying average of past squared gradeints, similar to RMSprop, and keeps the exponentially decaying average of the past gradients, similar to momentum. \n",
    "\n",
    "<img src=\"pic/ADAM.png\" width=500>\n",
    "\n",
    "---\n",
    "\n",
    "\n",
    "### Best Practice\n",
    "\n",
    "Adam has been proved to be the stable and safest choice when it comes to optimizers. Below is an interesting post that experiments lots of combinations for learning rates and optimizers: [How to pick the best learning rate for your machine learning project](https://medium.com/octavian-ai/which-optimizer-and-learning-rate-should-i-use-for-deep-learning-5acb418f9b2). In short, **choose Adam if you can**!"
   ]
  },
  {
   "cell_type": "markdown",
   "metadata": {},
   "source": [
    "---"
   ]
  },
  {
   "cell_type": "markdown",
   "metadata": {},
   "source": [
    "# Improving Your Result on Testing/Validation Data"
   ]
  },
  {
   "cell_type": "markdown",
   "metadata": {},
   "source": [
    "## Early Stopping"
   ]
  },
  {
   "cell_type": "markdown",
   "metadata": {},
   "source": [
    "In general, total loss for both testing and training data will decrease after training more epochs. However, as the loss for training set continue to decrease, loss for testing data might at some point starts to increase. This often happens due to the fact that we are optimizing the parameter by evaluating through training data, and the optimal parameters for training set might not be those for the testing data. \n",
    "\n",
    "<img src=\"pic/early_stopping.png\">\n",
    "\n",
    "It seems reasonable to stop training at the point when the minimal validation error is achieved. Training the model any further only leads to overfitting. Thus, Early Stopping is a technique to stop the neural network training when the validation data has the smallest total loss even if the loss for the training data is still decreasing. **In Keras, you can feed the validation set into keras model and use the following API to find implement EarlyStopping**.\n",
    "\n",
    "```python\n",
    "from keras.callbacks import EarlyStopping\n",
    "es = EarlyStopping(monitor='val_loss', mode='min', verbose=1, patience=50, min_delta=1, baseline=0.4)\n",
    "```\n",
    "\n",
    "This callback allows you to specify the performance measure to monitor, the trigger, and once triggered, it will stop the training process. \n",
    "\n",
    "**Monitor**: The performance metrics you want to monitor in order to find the trigger of early stopping.\n",
    "\n",
    "**Mode**: whether you are minimizing or maximizing the monitored metrics. By default, mode is set to `auto`, which knows that you want to minimize loss or maximize accuracy.\n",
    "\n",
    "Below are other optional parameters you can pass in:\n",
    "\n",
    "**Patience**: The size of delays for early stopping.\n",
    "\n",
    "In some cases the first sign of no improvement might not be the best time to stop training. This is because the model might encounter a plateau of no improvement, or it might just be trapped in a local optimum. Thus, we can deal with this issue by adding a **delay** parameter to the trigger in terms of the number of epochs on which we would like to see no improvement.\n",
    "\n",
    "**min_delta**: The minimum acceptable definition of **improvement**.\n",
    "\n",
    "In some cases there might be a fractional improvement that doesn't necessarily mean anything to you. You can set the minimum amount of improvement to be considered as improvement.\n",
    "\n",
    "**baseline**: threshold for stopping the training process.\n",
    "\n",
    "For more information about how early stopping can benefit your neural network, check out this wonderful post: [Use Early Stopping to Halt the Training of Neural Networks At the Right Time](https://machinelearningmastery.com/how-to-stop-training-deep-neural-networks-at-the-right-time-using-early-stopping/)\n",
    "\n",
    "---"
   ]
  },
  {
   "cell_type": "markdown",
   "metadata": {},
   "source": [
    "## Regularization"
   ]
  },
  {
   "cell_type": "markdown",
   "metadata": {},
   "source": [
    "What regularization can do to neural network is similar to other machine learning models. In machine learning, regularization penalizes the coefficients by shrinking the coefficeints toward zero. In deep learning, it actually penalizes the weight matrices of the nodes. However, in deep learning the problem is a little more complex.\n",
    "\n",
    "Say that the regularization coefficient is so high that some of the weight matrices are nearly equal to zero.\n",
    "\n",
    "<img src=\"pic/regu.png\">\n",
    "\n",
    "From the above image we can see that the original complex network structure shrinks to a much simpler linear network and thus slightly underfits of the training data. Such a large value of the regularization coefficient can ruin your model. Thus, the regularization coefficient is another parameter that the training process needs to take care of.\n",
    "\n",
    "\n",
    "For L2 Regularization,\n",
    "\n",
    "$$L'(\\theta) =  L(\\theta) + \\lambda\\frac{1}{2}\\left \\| \\theta \\right \\|_2,$$\n",
    "\n",
    "where\n",
    "\n",
    "$$ \\left \\| \\theta \\right \\|_2 = (w_1)^2 + (w_2)^2 + ...$$\n",
    "\n",
    "\n",
    "Regularization works by adding an extra penalty term to the orignial loss function. $\\lambda$ is the coefficient parameter for the regularization term that needs to be optimized through the training process for better results. L2 Regularization is also known as **Weight Decay**, as it forces the weights to decay towards zero (but not exactly zero). L1 Regularization, on the other hands, can actually forces the weight to be zero. Therefore, L1 regularization is useful if you want to compress the model to a simpler format.\n",
    "\n",
    "\n",
    "Gradient: $$\\frac{\\partial L' }{\\partial w} = \\frac{\\partial L }{\\partial w}  + \\lambda w $$\n",
    "\n",
    "Update: $$w^{t+1} \\rightarrow  w^t - \\eta \\frac{\\partial L'}{\\partial w} = w^t - \\eta (\\frac{\\partial L}{\\partial w} + \\lambda w^t) = (1-\\eta \\lambda)w^t - \\eta \\frac{\\partial L}{\\partial w}$$\n",
    "\n",
    "\n",
    "The difference between L1 and L2 Regularization is that the result for L1 regularization is sparse -- you will end up having some zeros and some large numbers. For L2 regularization, you will reduce the number to roughly the same scale -- all reduce to a certain small number. Therefore, choosing between L1 and L2 depends on the context of the problem.\n",
    "\n",
    "You can implement regularization through keras by setting one simple parameter:\n",
    "\n",
    "```python\n",
    "from keras import regularizers\n",
    "    model.add(Dense(units=300, activation='relu'), kernel_regularizer=regularizers.l2(0.01))\n",
    "\n",
    "```\n",
    "\n",
    "Frankly speaking, regulation doesn't help as much as other methods. Therefore, in lots of neural network implementation you hardly see the usage of regularization. People often tends to implement **Dropout** more often compared to **Regularization**."
   ]
  },
  {
   "cell_type": "markdown",
   "metadata": {},
   "source": [
    "## Dropout"
   ]
  },
  {
   "cell_type": "markdown",
   "metadata": {},
   "source": [
    "**Dropout** is a technique used to prevent a model from **overfitting** and is a special method specifically designed for neural network. ."
   ]
  },
  {
   "cell_type": "markdown",
   "metadata": {},
   "source": [
    "<img src=\"pic/dropout.png\" width=500>"
   ]
  },
  {
   "cell_type": "markdown",
   "metadata": {},
   "source": [
    "**While training,**\n",
    "\n",
    "Dropout works by randomly setting the outgoing edges of hidden units (neurons that make up hidden layers) to 0 at each update of the training phase.\n",
    "\n",
    "Dropout occurs before each iteration that updates the parameters. First, it randomly select p% of the neurons and set those to 0 at each update of the training phase. Thus, the structure of the network is changed. Then, the model uses this new network for training. For each mini-batch, we resample the dropout neurons.\n",
    "\n",
    "Note that if you use dropout technique, the performance on training dataset will be worse than normal. However, the dropout technique is intentionally designed to perform worse on training data but better on testing data.\n",
    "\n",
    "**While testing,**\n",
    "\n",
    "Note that you should not conduct dropout on the testing process. You should follow the rules below.\n",
    "\n",
    "* If the dropout rate at training is p%, all the weights should time (1-p)%\n",
    "\n",
    "* Assume that the dropout rate is 50%, if weight w = 1 when training, set w = 0.5 fore testing.\n",
    "\n",
    "This will be done automatically by current packages. But.. Why is that?\n",
    "\n",
    "<img src=\"pic/dropout2.png\" width = 500>"
   ]
  },
  {
   "cell_type": "markdown",
   "metadata": {},
   "source": [
    "To conclude, what dropout does is that at every iteration, it randomly selects some nodes and removes them along with all of their incoming and outgoing connections. Therefore, each iteration will have a different set of nodes. It can also be thought of as an ensemble technique in machine learning. Namely, **dropout can be seen as a kind of ensemble method in neural networks**.\n",
    "\n",
    "<img src=\"pic/dropout3.png\" width = 500>\n",
    "\n",
    "In keras, we can implement dropout as a layer. See the following code:\n",
    "\n",
    "```python\n",
    "    model = Sequential()\n",
    "    model.add(Dense(input_dim=28 * 28, units=300, activation='relu'))\n",
    "    model.add(Dropout(0.5))\n",
    "    model.add(Dense(units=300, activation='relu'))\n",
    "    model.add(Dropout(0.5))\n",
    "    model.add(Dense(units=10, activation='softmax'))\n",
    "```\n",
    "\n",
    "The parameter that is fed into the Dropout layer is the percentage of nodes being dropped. We can tune the parameter better by using GridSearch."
   ]
  },
  {
   "cell_type": "markdown",
   "metadata": {},
   "source": [
    "---"
   ]
  },
  {
   "cell_type": "markdown",
   "metadata": {},
   "source": [
    "## Re-do the MNIST Dataset"
   ]
  },
  {
   "cell_type": "markdown",
   "metadata": {},
   "source": [
    "### Model 2: Add additional layers, regularizers, and dropouts."
   ]
  },
  {
   "cell_type": "code",
   "execution_count": 34,
   "metadata": {},
   "outputs": [
    {
     "name": "stdout",
     "output_type": "stream",
     "text": [
      "Train on 42000 samples, validate on 18000 samples\n",
      "Epoch 1/20\n",
      "42000/42000 [==============================] - 8s 186us/step - loss: 3.4893 - accuracy: 0.7270 - val_loss: 1.2714 - val_accuracy: 0.7989\n",
      "Epoch 2/20\n",
      "42000/42000 [==============================] - 7s 162us/step - loss: 1.0538 - accuracy: 0.7946 - val_loss: 0.9643 - val_accuracy: 0.7596\n",
      "Epoch 3/20\n",
      "42000/42000 [==============================] - 7s 158us/step - loss: 0.8900 - accuracy: 0.7970 - val_loss: 0.9308 - val_accuracy: 0.7443\n",
      "Epoch 4/20\n",
      "42000/42000 [==============================] - 6s 151us/step - loss: 0.8308 - accuracy: 0.8033 - val_loss: 0.8294 - val_accuracy: 0.7927\n",
      "Epoch 5/20\n",
      "42000/42000 [==============================] - 6s 150us/step - loss: 0.8068 - accuracy: 0.8058 - val_loss: 0.8801 - val_accuracy: 0.7564\n",
      "Epoch 6/20\n",
      "42000/42000 [==============================] - 7s 162us/step - loss: 0.7914 - accuracy: 0.8094 - val_loss: 0.7746 - val_accuracy: 0.8009\n",
      "Epoch 7/20\n",
      "42000/42000 [==============================] - 6s 147us/step - loss: 0.7791 - accuracy: 0.8095 - val_loss: 0.7299 - val_accuracy: 0.8209\n",
      "Epoch 8/20\n",
      "42000/42000 [==============================] - 7s 168us/step - loss: 0.7584 - accuracy: 0.8135 - val_loss: 0.7323 - val_accuracy: 0.8197\n",
      "Epoch 9/20\n",
      "42000/42000 [==============================] - 8s 180us/step - loss: 0.7553 - accuracy: 0.8127 - val_loss: 0.7334 - val_accuracy: 0.8210\n",
      "Epoch 10/20\n",
      "42000/42000 [==============================] - 7s 178us/step - loss: 0.7504 - accuracy: 0.8123 - val_loss: 0.8229 - val_accuracy: 0.7565\n",
      "Epoch 11/20\n",
      "42000/42000 [==============================] - 8s 187us/step - loss: 0.7464 - accuracy: 0.8145 - val_loss: 0.8501 - val_accuracy: 0.7688\n",
      "Epoch 12/20\n",
      "42000/42000 [==============================] - 8s 190us/step - loss: 0.7380 - accuracy: 0.8144 - val_loss: 0.7273 - val_accuracy: 0.8201\n",
      "Epoch 13/20\n",
      "42000/42000 [==============================] - 8s 184us/step - loss: 0.7289 - accuracy: 0.8178 - val_loss: 0.6841 - val_accuracy: 0.8327\n",
      "Epoch 14/20\n",
      "42000/42000 [==============================] - 8s 200us/step - loss: 0.7192 - accuracy: 0.8189 - val_loss: 0.6986 - val_accuracy: 0.8256\n",
      "Epoch 15/20\n",
      "42000/42000 [==============================] - 7s 176us/step - loss: 0.7124 - accuracy: 0.8202 - val_loss: 0.7109 - val_accuracy: 0.8247\n",
      "Epoch 16/20\n",
      "42000/42000 [==============================] - 6s 152us/step - loss: 0.7122 - accuracy: 0.8210 - val_loss: 0.7108 - val_accuracy: 0.8207\n",
      "Epoch 17/20\n",
      "42000/42000 [==============================] - 8s 187us/step - loss: 0.7090 - accuracy: 0.8183 - val_loss: 0.7138 - val_accuracy: 0.8011\n",
      "Epoch 18/20\n",
      "42000/42000 [==============================] - 7s 163us/step - loss: 0.6995 - accuracy: 0.8215 - val_loss: 0.7244 - val_accuracy: 0.8163\n",
      "Epoch 19/20\n",
      "42000/42000 [==============================] - 6s 152us/step - loss: 0.7031 - accuracy: 0.8209 - val_loss: 0.7214 - val_accuracy: 0.8087\n",
      "Epoch 20/20\n",
      "42000/42000 [==============================] - 6s 146us/step - loss: 0.6971 - accuracy: 0.8219 - val_loss: 0.6795 - val_accuracy: 0.8272\n",
      "60000/60000 [==============================] - 6s 108us/step\n",
      "10000/10000 [==============================] - 1s 112us/step\n",
      "\n",
      "\n",
      "----------Model Result----------\n",
      "Train Acc: 0.8297666907310486\n",
      "Test Acc: 0.8163999915122986\n"
     ]
    }
   ],
   "source": [
    "if __name__ == '__main__':\n",
    "    # load training data and testing data\n",
    "    (x_train, y_train), (x_test, y_test) = load_data()\n",
    "#     es = EarlyStopping(monitor='val_loss', mode='min', verbose=1, patience=3)\n",
    "    # define network structure\n",
    "    model = Sequential()\n",
    "\n",
    "    model.add(Dense(input_dim=28 * 28, units=300, activation='relu',kernel_regularizer=regularizers.l2(0.01)))\n",
    "    model.add(Dropout(0.3))\n",
    "    model.add(Dense(units=300, activation=LeakyReLU(),kernel_regularizer=regularizers.l2(0.01)))\n",
    "    model.add(Dropout(0.3))\n",
    "    model.add(Dense(units=100, activation='relu',kernel_regularizer=regularizers.l2(0.01)))\n",
    "    model.add(Dense(units=10, activation='softmax'))\n",
    "\n",
    "    # set configurations\n",
    "    model.compile(loss='categorical_crossentropy',\n",
    "                  optimizer=Adam(), metrics=['accuracy'])\n",
    "\n",
    "    # train model\n",
    "    history2 = model.fit(x_train, y_train, batch_size=256, epochs=20, validation_split=0.3)\n",
    "\n",
    "    # evaluate the model and output the accuracy\n",
    "    result_train = model.evaluate(x_train, y_train)\n",
    "    result_test = model.evaluate(x_test, y_test)\n",
    "    print('\\n')\n",
    "    print('----------Model Result----------')\n",
    "    print('Train Acc:', result_train[1])\n",
    "    print('Test Acc:', result_test[1])"
   ]
  },
  {
   "cell_type": "markdown",
   "metadata": {},
   "source": [
    "### Model 3: Take out the additional layer; simplify the model structure"
   ]
  },
  {
   "cell_type": "code",
   "execution_count": 46,
   "metadata": {},
   "outputs": [
    {
     "name": "stderr",
     "output_type": "stream",
     "text": [
      "/Users/ytchou/opt/miniconda3/lib/python3.7/site-packages/keras/activations.py:235: UserWarning: Do not pass a layer instance (such as LeakyReLU) as the activation argument of another layer. Instead, advanced activation layers should be used just like any other layer in a model.\n",
      "  identifier=identifier.__class__.__name__))\n"
     ]
    },
    {
     "name": "stdout",
     "output_type": "stream",
     "text": [
      "Train on 42000 samples, validate on 18000 samples\n",
      "Epoch 1/20\n",
      "42000/42000 [==============================] - 6s 145us/step - loss: 1.7353 - accuracy: 0.7654 - val_loss: 0.8631 - val_accuracy: 0.7879\n",
      "Epoch 2/20\n",
      "42000/42000 [==============================] - 5s 123us/step - loss: 0.6415 - accuracy: 0.8347 - val_loss: 0.5261 - val_accuracy: 0.8487\n",
      "Epoch 3/20\n",
      "42000/42000 [==============================] - 5s 121us/step - loss: 0.5021 - accuracy: 0.8502 - val_loss: 0.5083 - val_accuracy: 0.8422\n",
      "Epoch 4/20\n",
      "42000/42000 [==============================] - 7s 166us/step - loss: 0.4584 - accuracy: 0.8581 - val_loss: 0.4674 - val_accuracy: 0.8498\n",
      "Epoch 5/20\n",
      "42000/42000 [==============================] - 7s 158us/step - loss: 0.4340 - accuracy: 0.8632 - val_loss: 0.4320 - val_accuracy: 0.8602\n",
      "Epoch 6/20\n",
      "42000/42000 [==============================] - 6s 150us/step - loss: 0.4229 - accuracy: 0.8660 - val_loss: 0.4535 - val_accuracy: 0.8534\n",
      "Epoch 7/20\n",
      "42000/42000 [==============================] - 5s 129us/step - loss: 0.4062 - accuracy: 0.8697 - val_loss: 0.4124 - val_accuracy: 0.8683\n",
      "Epoch 8/20\n",
      "42000/42000 [==============================] - 6s 138us/step - loss: 0.3977 - accuracy: 0.8734 - val_loss: 0.3915 - val_accuracy: 0.8756\n",
      "Epoch 9/20\n",
      "42000/42000 [==============================] - 6s 135us/step - loss: 0.3861 - accuracy: 0.8753 - val_loss: 0.4039 - val_accuracy: 0.8688\n",
      "Epoch 10/20\n",
      "42000/42000 [==============================] - 7s 157us/step - loss: 0.3794 - accuracy: 0.8793 - val_loss: 0.3912 - val_accuracy: 0.8730\n",
      "Epoch 11/20\n",
      "42000/42000 [==============================] - 7s 162us/step - loss: 0.3761 - accuracy: 0.8783 - val_loss: 0.4080 - val_accuracy: 0.8673\n",
      "Epoch 12/20\n",
      "42000/42000 [==============================] - 6s 138us/step - loss: 0.3688 - accuracy: 0.8812 - val_loss: 0.4025 - val_accuracy: 0.8668\n",
      "Epoch 13/20\n",
      "42000/42000 [==============================] - 5s 130us/step - loss: 0.3589 - accuracy: 0.8849 - val_loss: 0.3745 - val_accuracy: 0.8787\n",
      "Epoch 14/20\n",
      "42000/42000 [==============================] - 6s 132us/step - loss: 0.3548 - accuracy: 0.8858 - val_loss: 0.3949 - val_accuracy: 0.8706\n",
      "Epoch 15/20\n",
      "42000/42000 [==============================] - 7s 155us/step - loss: 0.3500 - accuracy: 0.8865 - val_loss: 0.3683 - val_accuracy: 0.8807\n",
      "Epoch 16/20\n",
      "42000/42000 [==============================] - 6s 149us/step - loss: 0.3393 - accuracy: 0.8900 - val_loss: 0.3778 - val_accuracy: 0.8794\n",
      "Epoch 17/20\n",
      "42000/42000 [==============================] - 6s 147us/step - loss: 0.3463 - accuracy: 0.8887 - val_loss: 0.3758 - val_accuracy: 0.8776\n",
      "Epoch 18/20\n",
      "42000/42000 [==============================] - 6s 133us/step - loss: 0.3366 - accuracy: 0.8905 - val_loss: 0.3971 - val_accuracy: 0.8740\n",
      "Epoch 19/20\n",
      "42000/42000 [==============================] - 6s 150us/step - loss: 0.3352 - accuracy: 0.8911 - val_loss: 0.3743 - val_accuracy: 0.8779\n",
      "Epoch 20/20\n",
      "42000/42000 [==============================] - 5s 125us/step - loss: 0.3256 - accuracy: 0.8935 - val_loss: 0.3759 - val_accuracy: 0.8767\n",
      "Epoch 00020: early stopping\n",
      "60000/60000 [==============================] - 6s 92us/step\n",
      "10000/10000 [==============================] - 1s 69us/step\n",
      "\n",
      "\n",
      "----------Model Result----------\n",
      "Train Acc: 0.8916500210762024\n",
      "Test Acc: 0.8708000183105469\n"
     ]
    }
   ],
   "source": [
    "if __name__ == '__main__':\n",
    "    # load training data and testing data\n",
    "    (x_train, y_train), (x_test, y_test) = load_data()\n",
    "    es = EarlyStopping(monitor='val_loss', mode='min', verbose=1, patience=5)\n",
    "    # define network structure\n",
    "    model = Sequential()\n",
    "\n",
    "    model.add(Dense(input_dim=28 * 28, units=300, activation='relu'))\n",
    "    model.add(Dropout(0.3))\n",
    "    model.add(Dense(units=300, activation=LeakyReLU(),kernel_regularizer=regularizers.l2(0.01)))\n",
    "    model.add(Dense(units=10, activation='softmax'))\n",
    "\n",
    "    # set configurations\n",
    "    model.compile(loss='categorical_crossentropy',\n",
    "                  optimizer=Adam(), metrics=['accuracy'])\n",
    "\n",
    "    # train model\n",
    "    history3 = model.fit(x_train, y_train, batch_size=256, epochs=20, validation_split=0.3, callbacks=[es])\n",
    "\n",
    "    # evaluate the model and output the accuracy\n",
    "    result_train = model.evaluate(x_train, y_train)\n",
    "    result_test = model.evaluate(x_test, y_test)\n",
    "    print('\\n')\n",
    "    print('----------Model Result----------')\n",
    "    print('Train Acc:', result_train[1])\n",
    "    print('Test Acc:', result_test[1])"
   ]
  },
  {
   "cell_type": "markdown",
   "metadata": {},
   "source": [
    "### Model 4: Try EarlyStopping. Change Adam optimizer to Nadam."
   ]
  },
  {
   "cell_type": "code",
   "execution_count": 56,
   "metadata": {},
   "outputs": [
    {
     "name": "stderr",
     "output_type": "stream",
     "text": [
      "/Users/ytchou/opt/miniconda3/lib/python3.7/site-packages/keras/activations.py:235: UserWarning: Do not pass a layer instance (such as LeakyReLU) as the activation argument of another layer. Instead, advanced activation layers should be used just like any other layer in a model.\n",
      "  identifier=identifier.__class__.__name__))\n"
     ]
    },
    {
     "name": "stdout",
     "output_type": "stream",
     "text": [
      "Train on 42000 samples, validate on 18000 samples\n",
      "Epoch 1/20\n",
      "42000/42000 [==============================] - 6s 149us/step - loss: 1.3973 - accuracy: 0.7551 - val_loss: 1.4336 - val_accuracy: 0.5368\n",
      "Epoch 2/20\n",
      "42000/42000 [==============================] - 5s 122us/step - loss: 0.5670 - accuracy: 0.8271 - val_loss: 2.5393 - val_accuracy: 0.5442\n",
      "Epoch 3/20\n",
      "42000/42000 [==============================] - 5s 124us/step - loss: 0.5177 - accuracy: 0.8401 - val_loss: 0.8234 - val_accuracy: 0.7471\n",
      "Epoch 4/20\n",
      "42000/42000 [==============================] - 5s 124us/step - loss: 0.4619 - accuracy: 0.8519 - val_loss: 0.5199 - val_accuracy: 0.8280\n",
      "Epoch 5/20\n",
      "42000/42000 [==============================] - 5s 129us/step - loss: 0.4354 - accuracy: 0.8585 - val_loss: 0.5497 - val_accuracy: 0.8341\n",
      "Epoch 6/20\n",
      "42000/42000 [==============================] - 6s 136us/step - loss: 0.4146 - accuracy: 0.8664 - val_loss: 0.7807 - val_accuracy: 0.7767\n",
      "Epoch 7/20\n",
      "42000/42000 [==============================] - 5s 127us/step - loss: 0.4124 - accuracy: 0.8663 - val_loss: 1.0981 - val_accuracy: 0.7419\n",
      "Epoch 8/20\n",
      "42000/42000 [==============================] - 6s 133us/step - loss: 0.4015 - accuracy: 0.8720 - val_loss: 0.4288 - val_accuracy: 0.8644\n",
      "Epoch 9/20\n",
      "42000/42000 [==============================] - 5s 126us/step - loss: 0.3848 - accuracy: 0.8751 - val_loss: 0.6519 - val_accuracy: 0.8192\n",
      "Epoch 10/20\n",
      "42000/42000 [==============================] - 6s 153us/step - loss: 0.3804 - accuracy: 0.8777 - val_loss: 0.5640 - val_accuracy: 0.8208\n",
      "Epoch 11/20\n",
      "42000/42000 [==============================] - 7s 172us/step - loss: 0.3749 - accuracy: 0.8782 - val_loss: 0.7807 - val_accuracy: 0.7974\n",
      "Epoch 12/20\n",
      "42000/42000 [==============================] - 6s 147us/step - loss: 0.3708 - accuracy: 0.8791 - val_loss: 0.4835 - val_accuracy: 0.8403\n",
      "Epoch 13/20\n",
      "42000/42000 [==============================] - 6s 132us/step - loss: 0.3592 - accuracy: 0.8834 - val_loss: 0.6235 - val_accuracy: 0.7793\n",
      "Epoch 14/20\n",
      "42000/42000 [==============================] - 6s 133us/step - loss: 0.3517 - accuracy: 0.8859 - val_loss: 0.6460 - val_accuracy: 0.8033\n",
      "Epoch 15/20\n",
      "42000/42000 [==============================] - 5s 129us/step - loss: 0.3493 - accuracy: 0.8872 - val_loss: 0.5227 - val_accuracy: 0.8257\n",
      "Epoch 00015: early stopping\n",
      "60000/60000 [==============================] - 4s 74us/step\n",
      "10000/10000 [==============================] - 1s 72us/step\n",
      "\n",
      "\n",
      "----------Model Result----------\n",
      "Train Acc: 0.8396833539009094\n",
      "Test Acc: 0.824999988079071\n"
     ]
    }
   ],
   "source": [
    "if __name__ == '__main__':\n",
    "    # load training data and testing data\n",
    "    (x_train, y_train), (x_test, y_test) = load_data()\n",
    "    es = EarlyStopping(monitor='val_loss', mode='min', verbose=1, patience=7)\n",
    "    # define network structure\n",
    "    model = Sequential()\n",
    "\n",
    "    model.add(Dense(input_dim=28 * 28, units=300, activation='relu'))\n",
    "    model.add(Dropout(0.3))\n",
    "    model.add(Dense(units=300, activation=LeakyReLU(),kernel_regularizer=regularizers.l2(0.01)))\n",
    "    model.add(Dense(units=10, activation='softmax'))\n",
    "\n",
    "    # set configurations\n",
    "    model.compile(loss='categorical_crossentropy',\n",
    "                  optimizer=Nadam(), metrics=['accuracy'])\n",
    "\n",
    "    # train model\n",
    "    history4 = model.fit(x_train, y_train, batch_size=256, epochs=20, validation_split=0.3, callbacks=[es])\n",
    "\n",
    "    # evaluate the model and output the accuracy\n",
    "    result_train = model.evaluate(x_train, y_train)\n",
    "    result_test = model.evaluate(x_test, y_test)\n",
    "    print('\\n')\n",
    "    print('----------Model Result----------')\n",
    "    print('Train Acc:', result_train[1])\n",
    "    print('Test Acc:', result_test[1])"
   ]
  },
  {
   "cell_type": "code",
   "execution_count": 71,
   "metadata": {},
   "outputs": [
    {
     "data": {
      "image/png": "[encoded data removed]",
      "text/plain": [
       "<Figure size 864x576 with 4 Axes>"
      ]
     },
     "metadata": {
      "needs_background": "light"
     },
     "output_type": "display_data"
    }
   ],
   "source": [
    "# summarize history for accuracy\n",
    "plt.figure(figsize=(12,8))\n",
    "plt.subplot(221)\n",
    "plt.plot(history.history['accuracy'])\n",
    "plt.plot(history2.history['accuracy'])\n",
    "plt.plot(history3.history['accuracy'])\n",
    "plt.plot(history4.history['accuracy'])\n",
    "plt.title('model accuracy')\n",
    "plt.ylabel('accuracy')\n",
    "plt.xlabel('epoch')\n",
    "plt.legend(['Ver.1', 'Ver.2','Ver.3','Ver.4'], loc='upper left')\n",
    "\n",
    "plt.subplot(222)\n",
    "plt.plot(history.history['val_accuracy'])\n",
    "plt.plot(history2.history['val_accuracy'])\n",
    "plt.plot(history3.history['val_accuracy'])\n",
    "plt.plot(history4.history['val_accuracy'])\n",
    "plt.title('model val_accuracy')\n",
    "plt.ylabel('val_accuracy')\n",
    "plt.xlabel('epoch')\n",
    "plt.legend(['Ver.1', 'Ver.2','Ver.3','Ver.4'], loc='upper left')\n",
    "\n",
    "plt.subplot(223)\n",
    "plt.plot(history.history['loss'])\n",
    "plt.plot(history2.history['loss'])\n",
    "plt.plot(history3.history['loss'])\n",
    "plt.plot(history4.history['loss'])\n",
    "plt.title('model loss')\n",
    "plt.ylabel('loss')\n",
    "plt.xlabel('epoch')\n",
    "plt.legend(['Ver.1', 'Ver.2', 'Ver.3','Ver.4'], loc='upper left')\n",
    "\n",
    "plt.subplot(224)\n",
    "plt.plot(history.history['val_loss'])\n",
    "plt.plot(history2.history['val_loss'])\n",
    "plt.plot(history3.history['val_loss'])\n",
    "plt.plot(history4.history['val_loss'])\n",
    "plt.title('model val_loss')\n",
    "plt.ylabel('val_loss')\n",
    "plt.xlabel('epoch')\n",
    "plt.legend(['Ver.1', 'Ver.2', 'Ver.3','Ver.4'], loc='upper left')\n",
    "plt.tight_layout()\n",
    "plt.show()"
   ]
  },
  {
   "cell_type": "markdown",
   "metadata": {},
   "source": [
    "From the above trails, we can get some intuitions:\n",
    "\n",
    "1. Deeper neural network doesn't necessarily increase the performance. Finding the best network structure requires trial and error.\n",
    "\n",
    "2. There is no optimal optimizer. You can see that Ver.4 (Nadam) performs worse than Ver.3 (Adam), though we know that Nesterov Momentum in practice performs better than normal momentum. Thus, it again requires lots of trial and error!\n",
    "\n",
    "3. For a new problem, you can experiment in the following orders:\n",
    "    - Use Stochastic Gradient Descent (SGD) to find the better neural network structure. Although the accuracy may not be the best cases, this method can help you find the better structure. The structure includes dropout and regularization.\n",
    "    - After you find a good model structure, try chaning the optimizer from SGD to robust ones, for example Adam and Nadam. Again, you need to experiment in order to find the one more suitable for your problem.\n",
    "    - Plot out the result using the History callback to see if you need further modification."
   ]
  },
  {
   "cell_type": "markdown",
   "metadata": {},
   "source": [
    "## **Reference:**\n",
    "\n",
    "[Stanford CS231n](http://cs231n.github.io/neural-networks-1/)\n",
    "\n",
    "[[Medium] Complete Guide of Activation Functions](https://towardsdatascience.com/complete-guide-of-activation-functions-34076e95d044)\n",
    "\n",
    "[[Medium] Introduction to Different Activation Functions for Deep Learning](https://medium.com/@shrutijadon10104776/survey-on-activation-functions-for-deep-learning-9689331ba092)\n",
    "\n",
    "[[Medium] Stochastic Gradient Descent with momentum](https://towardsdatascience.com/stochastic-gradient-descent-with-momentum-a84097641a5d)\n",
    "\n",
    "[[StackExchange] **Phylliida's Answer** on Comprehensive list of activation functions in neural networks with pros/cons](https://stats.stackexchange.com/questions/115258/comprehensive-list-of-activation-functions-in-neural-networks-with-pros-cons)\n",
    "\n",
    "[Display Deep Learning Model Training History in Keras](https://machinelearningmastery.com/display-deep-learning-model-training-history-in-keras/)\n",
    "\n",
    "[Understand the Impact of Learning Rate on Neural Network Performance](https://machinelearningmastery.com/understand-the-dynamics-of-learning-rate-on-deep-learning-neural-networks/)\n",
    "\n",
    "[An overview of gradient descent optimization algorithms](https://ruder.io/optimizing-gradient-descent/index.html)\n",
    "\n",
    "[[Medium] How to pick the best learning rate for your machine learning project](https://medium.com/octavian-ai/which-optimizer-and-learning-rate-should-i-use-for-deep-learning-5acb418f9b2)\n",
    "\n",
    "[Use Early Stopping to Halt the Training of Neural Networks At the Right Time](https://machinelearningmastery.com/how-to-stop-training-deep-neural-networks-at-the-right-time-using-early-stopping/)\n",
    "\n",
    "[An Overview of Regularization Techniques in Deep Learning](https://www.analyticsvidhya.com/blog/2018/04/fundamentals-deep-learning-regularization-techniques/)"
   ]
  }
 ],
 "metadata": {
  "kernelspec": {
   "display_name": "Python 3",
   "language": "python",
   "name": "python3"
  },
  "language_info": {
   "codemirror_mode": {
    "name": "ipython",
    "version": 3
   },
   "file_extension": ".py",
   "mimetype": "text/x-python",
   "name": "python",
   "nbconvert_exporter": "python",
   "pygments_lexer": "ipython3",
   "version": "3.7.6"
  }
 },
 "nbformat": 4,
 "nbformat_minor": 4
}
